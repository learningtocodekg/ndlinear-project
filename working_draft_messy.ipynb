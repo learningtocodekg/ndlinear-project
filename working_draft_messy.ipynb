{
 "cells": [
  {
   "cell_type": "code",
   "execution_count": 1,
   "id": "c25c07e5-2edf-457b-8ace-63ed1e793c6e",
   "metadata": {},
   "outputs": [
    {
     "name": "stdout",
     "output_type": "stream",
     "text": [
      "Python 3.12.0\n"
     ]
    }
   ],
   "source": [
    "!python --version"
   ]
  },
  {
   "cell_type": "code",
   "execution_count": 1,
   "id": "d8aee807-2199-4d4e-bda5-babe0b9001aa",
   "metadata": {},
   "outputs": [],
   "source": [
    "import numpy as np\n",
    "import torch\n",
    "from sklearn.model_selection import train_test_split\n",
    "from torch.utils.data import DataLoader, TensorDataset\n",
    "import pandas as pd\n",
    "from ta.momentum import RSIIndicator\n",
    "from ta.trend import MACD, ADXIndicator\n",
    "from ta.volatility import AverageTrueRange, BollingerBands\n",
    "from ta.volume import OnBalanceVolumeIndicator\n",
    "from sklearn.preprocessing import StandardScaler\n",
    "import pickle\n",
    "import torch.nn as nn\n",
    "import torch.optim as optim\n",
    "import matplotlib.pyplot as plt\n"
   ]
  },
  {
   "cell_type": "code",
   "execution_count": 2,
   "id": "59cee88b-3e12-44d0-baf6-9a5a8662d90b",
   "metadata": {},
   "outputs": [],
   "source": [
    "\n",
    "\n",
    "def clean_price_column(col):\n",
    "    \"\"\"\n",
    "    Clean a price column by removing '$' and converting to float.\n",
    "    \n",
    "    Args:\n",
    "        col (pd.Series): Column to clean\n",
    "    \n",
    "    Returns:\n",
    "        pd.Series: Cleaned numeric column\n",
    "    \"\"\"\n",
    "    return col.str.replace('$', '', regex=False).astype(float)\n",
    "\n",
    "def process_stock_data(df):\n",
    "    \"\"\"\n",
    "    Process a single stock's data to create sequences and targets.\n",
    "    \n",
    "    Args:\n",
    "        df (pd.DataFrame): Stock data with columns ['Date', 'Close/Last', 'Volume', 'Open', 'High', 'Low']\n",
    "    \n",
    "    Returns:\n",
    "        tuple: (sequences, y, dates)\n",
    "            - sequences: List of arrays with shape [timesteps, num_features]\n",
    "            - y: List of percent changes (clipped to [-8, 8])\n",
    "            - dates: List of dates for the last day in each sequence\n",
    "    \"\"\"\n",
    "    # Clean and convert price columns to numeric\n",
    "    price_cols = ['Close/Last', 'Open', 'High', 'Low']\n",
    "    for col in price_cols:\n",
    "        df[col] = clean_price_column(df[col])\n",
    "    df['Volume'] = pd.to_numeric(df['Volume'], errors='coerce')\n",
    "    \n",
    "    # Take from row 29 (30th oldest, 0-based index) to end\n",
    "    df = df.iloc[29:].copy()\n",
    "    \n",
    "    # Check if sufficient data is available for MACD (26 periods)\n",
    "    if len(df) < 26:\n",
    "        print(f\"Insufficient data for stock: {len(df)} rows. Skipping.\")\n",
    "        return [], [], []\n",
    "    \n",
    "    # Calculate technical indicators\n",
    "    df['RSI_7'] = RSIIndicator(df['Close/Last'], window=7).rsi()\n",
    "    macd = MACD(df['Close/Last'], window_slow=26, window_fast=12)\n",
    "    df['MACD'] = macd.macd()\n",
    "    adx_window = min(14, len(df) - 1)\n",
    "    adx = ADXIndicator(df['High'], df['Low'], df['Close/Last'], window=adx_window)\n",
    "    df['ADX_14'] = adx.adx()\n",
    "    atr = AverageTrueRange(df['High'], df['Low'], df['Close/Last'], window=14)\n",
    "    df['ATR_14'] = atr.average_true_range()\n",
    "    obv = OnBalanceVolumeIndicator(df['Close/Last'], df['Volume'])\n",
    "    df['OBV'] = obv.on_balance_volume()\n",
    "    bb = BollingerBands(df['Close/Last'], window=20)\n",
    "    df['BB_upper'] = bb.bollinger_hband()\n",
    "    df['BB_lower'] = bb.bollinger_lband()\n",
    "    \n",
    "    # Drop rows with NaN indicators\n",
    "    df = df.dropna().reset_index(drop=True)\n",
    "    \n",
    "    # Skip another 20 rows if possible\n",
    "    if len(df) < 20:\n",
    "        print(f\"Insufficient data after dropping NaNs: {len(df)} rows. Skipping stock.\")\n",
    "        return [], [], []\n",
    "    df = df.iloc[20:].copy().reset_index(drop=True)\n",
    "    \n",
    "    # Define features\n",
    "    features = ['Close/Last', 'Volume', 'Open', 'High', 'Low', 'RSI_7', 'MACD', 'ADX_14', 'ATR_14', 'OBV', 'BB_upper', 'BB_lower']\n",
    "    num_features = len(features)\n",
    "    rsi_index = features.index('RSI_7')\n",
    "    \n",
    "    # Create sequences\n",
    "    sequences = []\n",
    "    y = []\n",
    "    dates = []\n",
    "    for i in range(len(df) - 20):\n",
    "        seq = df.iloc[i:i+20]\n",
    "        seq_features = seq[features].values  # Shape: [timesteps, num_features]\n",
    "        # Scale features except RSI_7 within the sequence\n",
    "        scaler = StandardScaler()\n",
    "        seq_scaled = scaler.fit_transform(seq_features)\n",
    "        seq_scaled[:, rsi_index] = seq_features[:, rsi_index]  # Preserve RSI_7\n",
    "        # Keep shape as [timesteps, num_features]\n",
    "        sequences.append(seq_scaled)\n",
    "        \n",
    "        # Calculate y: percent change\n",
    "        today_close = df.iloc[i+19]['Close/Last']\n",
    "        tomorrow_close = df.iloc[i+20]['Close/Last']\n",
    "        percent_change = 100 * (tomorrow_close - today_close) / today_close\n",
    "        # Clip percent change to [-8, 8]\n",
    "        percent_change = np.clip(percent_change, -8, 8)\n",
    "        y.append(percent_change)\n",
    "        \n",
    "        # Store date of the last day in the sequence\n",
    "        dates.append(df.iloc[i+19]['Date'])\n",
    "    \n",
    "    return sequences, y, dates\n",
    "\n",
    "def load_and_process_stock_data():\n",
    "    \"\"\"\n",
    "    Load and process stock data for multiple companies, aggregating sequences and targets.\n",
    "    \n",
    "    Returns:\n",
    "        tuple: (X, y)\n",
    "            - X: Array of shape [num_sequences, timesteps, num_features]\n",
    "            - y: Array of shape [num_sequences], scaled with StandardScaler\n",
    "    \n",
    "    Saves:\n",
    "        x_and_y.pkl: Pickle file containing (X, y)\n",
    "        target_scaler.pkl: Pickle file containing the StandardScaler for y\n",
    "    \"\"\"\n",
    "    stock_files = [\n",
    "        \"amzn_data.csv\", \"nflx_data.csv\", \"tsla_data.csv\", \"aapl_data.csv\",\n",
    "        \"qcom_data.csv\", \"msft_data.csv\", \"sbux_data.csv\", \"csco_data.csv\", \"meta_data.csv\"\n",
    "    ]\n",
    "    all_data = []\n",
    "    \n",
    "    for stock_file in stock_files:\n",
    "        file_path = \"./rawData/\"+stock_file\n",
    "        df = pd.read_csv(file_path)\n",
    "        df['Date'] = pd.to_datetime(df['Date'])\n",
    "        df = df.sort_values('Date').reset_index(drop=True)\n",
    "        sequences, y, dates = process_stock_data(df)\n",
    "        if sequences:\n",
    "            for seq, yy, dd in zip(sequences, y, dates):\n",
    "                all_data.append((seq, yy, dd))\n",
    "        else:\n",
    "            print(f\"No sequences generated for {stock_file}\")\n",
    "    \n",
    "    if not all_data:\n",
    "        raise ValueError(\"No valid sequences generated from any stock data.\")\n",
    "    \n",
    "    # Sort by date to maintain temporal order\n",
    "    all_data.sort(key=lambda x: x[2])\n",
    "    \n",
    "    # Extract X and y\n",
    "    X = np.array([item[0] for item in all_data])  # Shape: [num_sequences, timesteps, num_features]\n",
    "    y = np.array([item[1] for item in all_data])  # Shape: [num_sequences]\n",
    "    \n",
    "    # Scale the target values\n",
    "    target_scaler = StandardScaler()\n",
    "    y = target_scaler.fit_transform(y.reshape(-1, 1)).flatten()  # Reshape for scaler, then flatten back\n",
    "    \n",
    "    # Save X, y, and target scaler\n",
    "    with open(\"x_and_y.pkl\", \"wb\") as f:\n",
    "        pickle.dump((X, y), f)\n",
    "    with open(\"target_scaler.pkl\", \"wb\") as f:\n",
    "        pickle.dump(target_scaler, f)\n",
    "    \n",
    "    return X, y\n"
   ]
  },
  {
   "cell_type": "code",
   "execution_count": 3,
   "id": "360bceda-6dd4-4978-8c9d-7aa75b5090bf",
   "metadata": {},
   "outputs": [
    {
     "name": "stdout",
     "output_type": "stream",
     "text": [
      "Insufficient data for stock: 0 rows. Skipping.\n",
      "No sequences generated for qcom_data.csv\n"
     ]
    }
   ],
   "source": [
    "X,y = load_and_process_stock_data()"
   ]
  },
  {
   "cell_type": "code",
   "execution_count": null,
   "id": "bf77ce24-ca13-45ac-bc06-e1cd4c3aff77",
   "metadata": {},
   "outputs": [],
   "source": [
    "X.shape,y.shape"
   ]
  },
  {
   "cell_type": "code",
   "execution_count": null,
   "id": "3d5b752b-bf24-4aee-8524-4da389c4ba6b",
   "metadata": {},
   "outputs": [],
   "source": [
    "# Set random seeds for reproducibility\n",
    "SEED = 42\n",
    "np.random.seed(SEED)  # For NumPy (used by scikit-learn)\n",
    "torch.manual_seed(SEED)  # For PyTorch\n",
    "torch.cuda.manual_seed_all(SEED)  # For CUDA (if using GPU)\n",
    "\n",
    "device = \"cuda\" if torch.cuda.is_available() else \"cpu\"\n",
    "device"
   ]
  },
  {
   "cell_type": "code",
   "execution_count": null,
   "id": "1c0cb78c-8179-462f-97aa-7d21a8c7d292",
   "metadata": {},
   "outputs": [],
   "source": [
    "# Split data with reproducible shuffling\n",
    "X_train, X_temp, y_train, y_temp = train_test_split(X, y, train_size=0.7, shuffle=True, random_state=SEED)\n",
    "X_val, X_test, y_val, y_test = train_test_split(X_temp, y_temp, test_size=0.5, shuffle=False, random_state=SEED)\n",
    "\n",
    "def make_loader(X, y, bs=32, shuffle=False):\n",
    "    ds = TensorDataset(torch.tensor(X, dtype=torch.float32).to(device),\n",
    "                       torch.tensor(y, dtype=torch.float32).to(device))\n",
    "    return DataLoader(ds, batch_size=bs, shuffle=shuffle)\n",
    "\n",
    "# Create data loaders\n",
    "train_loader = make_loader(X_train, y_train, shuffle=True)\n",
    "val_loader = make_loader(X_val, y_val)\n",
    "test_loader = make_loader(X_test, y_test)"
   ]
  },
  {
   "cell_type": "code",
   "execution_count": 104,
   "id": "0913b148-12a7-4a40-9f27-fd489947ee10",
   "metadata": {},
   "outputs": [
    {
     "name": "stdout",
     "output_type": "stream",
     "text": [
      "Test DataLoader Target Statistics:\n",
      "Number of Values: 2907\n",
      "Mean: -0.004569\n",
      "Median: -0.000535\n",
      "Standard Deviation: 0.956245\n",
      "Minimum: -3.819506\n",
      "Maximum: 3.733095\n"
     ]
    }
   ],
   "source": [
    "\n",
    "# Collect all target values from test_loader\n",
    "all_targets = []\n",
    "for _, targets in test_loader:\n",
    "    all_targets.append(targets.cpu().numpy())\n",
    "all_targets = np.concatenate(all_targets)\n",
    "\n",
    "# Compute statistics\n",
    "mean = np.mean(all_targets)\n",
    "median = np.median(all_targets)\n",
    "std = np.std(all_targets)\n",
    "min_val = np.min(all_targets)\n",
    "max_val = np.max(all_targets)\n",
    "num_values = len(all_targets)\n",
    "\n",
    "# Print results\n",
    "print(\"Test DataLoader Target Statistics:\")\n",
    "print(f\"Number of Values: {num_values}\")\n",
    "print(f\"Mean: {mean:.6f}\")\n",
    "print(f\"Median: {median:.6f}\")\n",
    "print(f\"Standard Deviation: {std:.6f}\")\n",
    "print(f\"Minimum: {min_val:.6f}\")\n",
    "print(f\"Maximum: {max_val:.6f}\")"
   ]
  },
  {
   "cell_type": "code",
   "execution_count": 106,
   "id": "acdea53a-e132-4b1a-af00-a9889c479570",
   "metadata": {},
   "outputs": [
    {
     "name": "stdout",
     "output_type": "stream",
     "text": [
      "Training LSTM_Linear...\n",
      "Epoch 1, Train Loss: 1.0103, Val Loss: 1.0573\n",
      "Epoch 2, Train Loss: 1.0074, Val Loss: 1.0570\n",
      "Epoch 3, Train Loss: 1.0069, Val Loss: 1.0605\n",
      "Epoch 4, Train Loss: 1.0065, Val Loss: 1.0585\n",
      "Epoch 5, Train Loss: 1.0067, Val Loss: 1.0576\n",
      "Epoch 6, Train Loss: 1.0064, Val Loss: 1.0573\n",
      "Epoch 7, Train Loss: 1.0055, Val Loss: 1.0575\n",
      "Epoch 8, Train Loss: 1.0059, Val Loss: 1.0572\n",
      "Epoch 9, Train Loss: 1.0045, Val Loss: 1.0587\n",
      "Epoch 10, Train Loss: 1.0041, Val Loss: 1.0569\n",
      "Epoch 11, Train Loss: 1.0041, Val Loss: 1.0595\n",
      "Epoch 12, Train Loss: 1.0042, Val Loss: 1.0562\n",
      "Epoch 13, Train Loss: 1.0033, Val Loss: 1.0578\n",
      "Epoch 14, Train Loss: 1.0021, Val Loss: 1.0585\n",
      "Epoch 15, Train Loss: 1.0012, Val Loss: 1.0573\n",
      "Epoch 16, Train Loss: 1.0000, Val Loss: 1.0573\n",
      "Epoch 17, Train Loss: 0.9978, Val Loss: 1.0611\n",
      "Epoch 18, Train Loss: 0.9985, Val Loss: 1.0598\n",
      "Epoch 19, Train Loss: 0.9940, Val Loss: 1.0648\n",
      "Epoch 20, Train Loss: 0.9907, Val Loss: 1.0658\n",
      "Epoch 21, Train Loss: 0.9915, Val Loss: 1.0761\n",
      "Epoch 22, Train Loss: 0.9896, Val Loss: 1.0632\n",
      "Epoch 23, Train Loss: 0.9856, Val Loss: 1.0728\n",
      "Epoch 24, Train Loss: 0.9805, Val Loss: 1.0580\n",
      "Epoch 25, Train Loss: 0.9770, Val Loss: 1.0668\n",
      "Epoch 26, Train Loss: 0.9728, Val Loss: 1.0583\n",
      "Epoch 27, Train Loss: 0.9694, Val Loss: 1.0620\n",
      "Epoch 28, Train Loss: 0.9634, Val Loss: 1.0770\n",
      "Epoch 29, Train Loss: 0.9633, Val Loss: 1.0634\n",
      "Epoch 30, Train Loss: 0.9580, Val Loss: 1.0640\n",
      "Epoch 31, Train Loss: 0.9554, Val Loss: 1.0601\n",
      "Epoch 32, Train Loss: 0.9493, Val Loss: 1.0853\n",
      "Epoch 33, Train Loss: 0.9426, Val Loss: 1.0792\n",
      "Epoch 34, Train Loss: 0.9406, Val Loss: 1.0890\n",
      "Epoch 35, Train Loss: 0.9327, Val Loss: 1.0987\n",
      "Epoch 36, Train Loss: 0.9318, Val Loss: 1.0925\n",
      "Epoch 37, Train Loss: 0.9254, Val Loss: 1.0824\n",
      "Epoch 38, Train Loss: 0.9160, Val Loss: 1.0802\n",
      "Epoch 39, Train Loss: 0.9188, Val Loss: 1.0648\n",
      "Epoch 40, Train Loss: 0.9089, Val Loss: 1.0714\n",
      "Epoch 41, Train Loss: 0.9024, Val Loss: 1.0953\n",
      "Epoch 42, Train Loss: 0.9015, Val Loss: 1.0856\n",
      "Epoch 43, Train Loss: 0.8891, Val Loss: 1.0830\n",
      "Epoch 44, Train Loss: 0.8851, Val Loss: 1.0848\n",
      "Epoch 45, Train Loss: 0.8787, Val Loss: 1.1185\n",
      "Epoch 46, Train Loss: 0.8744, Val Loss: 1.1081\n",
      "Epoch 47, Train Loss: 0.8664, Val Loss: 1.1028\n",
      "Epoch 48, Train Loss: 0.8626, Val Loss: 1.1443\n",
      "Epoch 49, Train Loss: 0.8533, Val Loss: 1.1052\n",
      "Epoch 50, Train Loss: 0.8482, Val Loss: 1.1377\n",
      "Test Loss: 1.0041\n",
      "Training LSTM_NdLinear...\n",
      "Epoch 1, Train Loss: 1.0834, Val Loss: 1.0622\n",
      "Epoch 2, Train Loss: 1.0489, Val Loss: 1.0784\n",
      "Epoch 3, Train Loss: 1.0385, Val Loss: 1.0615\n",
      "Epoch 4, Train Loss: 1.0170, Val Loss: 1.0664\n",
      "Epoch 5, Train Loss: 1.0157, Val Loss: 1.0915\n",
      "Epoch 6, Train Loss: 1.0135, Val Loss: 1.0640\n",
      "Epoch 7, Train Loss: 1.0108, Val Loss: 1.0582\n",
      "Epoch 8, Train Loss: 1.0090, Val Loss: 1.0602\n",
      "Epoch 9, Train Loss: 1.0093, Val Loss: 1.0608\n",
      "Epoch 10, Train Loss: 1.0092, Val Loss: 1.0564\n",
      "Epoch 11, Train Loss: 1.0092, Val Loss: 1.0574\n",
      "Epoch 12, Train Loss: 1.0092, Val Loss: 1.0568\n",
      "Epoch 13, Train Loss: 1.0093, Val Loss: 1.0565\n",
      "Epoch 14, Train Loss: 1.0080, Val Loss: 1.0581\n",
      "Epoch 15, Train Loss: 1.0091, Val Loss: 1.0575\n",
      "Epoch 16, Train Loss: 1.0085, Val Loss: 1.0577\n",
      "Epoch 17, Train Loss: 1.0092, Val Loss: 1.0596\n",
      "Epoch 18, Train Loss: 1.0087, Val Loss: 1.0579\n",
      "Epoch 19, Train Loss: 1.0097, Val Loss: 1.0580\n",
      "Epoch 20, Train Loss: 1.0088, Val Loss: 1.0566\n",
      "Epoch 21, Train Loss: 1.0089, Val Loss: 1.0568\n",
      "Epoch 22, Train Loss: 1.0090, Val Loss: 1.0606\n",
      "Epoch 23, Train Loss: 1.0084, Val Loss: 1.0569\n",
      "Epoch 24, Train Loss: 1.0092, Val Loss: 1.0575\n",
      "Epoch 25, Train Loss: 1.0096, Val Loss: 1.0585\n",
      "Epoch 26, Train Loss: 1.0081, Val Loss: 1.0565\n",
      "Epoch 27, Train Loss: 1.0087, Val Loss: 1.0580\n",
      "Epoch 28, Train Loss: 1.0093, Val Loss: 1.0689\n",
      "Epoch 29, Train Loss: 1.0088, Val Loss: 1.0570\n",
      "Epoch 30, Train Loss: 1.0072, Val Loss: 1.0587\n",
      "Epoch 31, Train Loss: 1.0079, Val Loss: 1.0592\n",
      "Epoch 32, Train Loss: 1.0076, Val Loss: 1.0613\n",
      "Epoch 33, Train Loss: 1.0073, Val Loss: 1.0575\n",
      "Epoch 34, Train Loss: 1.0063, Val Loss: 1.0633\n",
      "Epoch 35, Train Loss: 1.0061, Val Loss: 1.0645\n",
      "Epoch 36, Train Loss: 1.0055, Val Loss: 1.0580\n",
      "Epoch 37, Train Loss: 1.0061, Val Loss: 1.0576\n",
      "Epoch 38, Train Loss: 1.0049, Val Loss: 1.0643\n",
      "Epoch 39, Train Loss: 1.0055, Val Loss: 1.0573\n",
      "Epoch 40, Train Loss: 1.0051, Val Loss: 1.0562\n",
      "Epoch 41, Train Loss: 1.0028, Val Loss: 1.0556\n",
      "Epoch 42, Train Loss: 1.0042, Val Loss: 1.0642\n",
      "Epoch 43, Train Loss: 1.0070, Val Loss: 1.0593\n",
      "Epoch 44, Train Loss: 1.0021, Val Loss: 1.0622\n",
      "Epoch 45, Train Loss: 0.9997, Val Loss: 1.0608\n",
      "Epoch 46, Train Loss: 0.9998, Val Loss: 1.0705\n",
      "Epoch 47, Train Loss: 0.9981, Val Loss: 1.0559\n",
      "Epoch 48, Train Loss: 0.9983, Val Loss: 1.0652\n",
      "Epoch 49, Train Loss: 0.9955, Val Loss: 1.0803\n",
      "Epoch 50, Train Loss: 0.9955, Val Loss: 1.0689\n",
      "Test Loss: 0.9137\n"
     ]
    }
   ],
   "source": [
    "# Define LSTM_Linear model\n",
    "class LSTM_Linear(nn.Module):\n",
    "    \"\"\"\n",
    "    LSTM model with a linear output layer.\n",
    "    \n",
    "    Args:\n",
    "        input_size: Number of input features\n",
    "        hidden_size: Number of hidden units\n",
    "        output_size: Number of output units\n",
    "        num_layers: Number of LSTM layers\n",
    "        dropout_rate: Dropout probability\n",
    "    \"\"\"\n",
    "    def __init__(self, input_size, hidden_size, output_size, num_layers=2, dropout_rate=0.3):\n",
    "        super(LSTM_Linear, self).__init__()\n",
    "        self.lstm = nn.LSTM(input_size, hidden_size, num_layers, batch_first=True, dropout=dropout_rate if num_layers > 1 else 0).to(device)\n",
    "        self.dropout = nn.Dropout(dropout_rate).to(device)\n",
    "        self.linear = nn.Linear(hidden_size, output_size).to(device)\n",
    "\n",
    "    def forward(self, x):\n",
    "        lstm_out, _ = self.lstm(x)\n",
    "        out = self.dropout(lstm_out[:, -1, :])\n",
    "        out = self.linear(out)\n",
    "        return out\n",
    "\n",
    "# Define LSTM_NdLinear model with multi-dimensional hidden layers\n",
    "class LSTM_NdLinear(nn.Module):\n",
    "    \"\"\"\n",
    "    LSTM model with an NdLinear output layer.\n",
    "    \n",
    "    Args:\n",
    "        input_size: Number of input features\n",
    "        hidden_size: Number of hidden units\n",
    "        output_size: Number of output units\n",
    "        nd_hidden: Hidden dimensions for NdLinear\n",
    "        num_layers: Number of LSTM layers\n",
    "        dropout_rate: Dropout probability\n",
    "    \"\"\"\n",
    "    def __init__(self, input_size, hidden_size, output_size, nd_hidden=(64, 32), num_layers=2, dropout_rate=0.3):\n",
    "        super(LSTM_NdLinear, self).__init__()\n",
    "        self.lstm = nn.LSTM(input_size, hidden_size, num_layers, batch_first=True, dropout=dropout_rate if num_layers > 1 else 0).to(device)\n",
    "        self.dropout = nn.Dropout(dropout_rate).to(device)\n",
    "        self.ndlinear = NdLinear(input_dims=(hidden_size, 1), hidden_size=nd_hidden).to(device)\n",
    "        self.linear = nn.Linear(np.prod(nd_hidden), output_size).to(device)\n",
    "\n",
    "    def forward(self, x):\n",
    "        lstm_out, _ = self.lstm(x)\n",
    "        last_out = lstm_out[:, -1, :].unsqueeze(-1)\n",
    "        nd_out = self.ndlinear(last_out)\n",
    "        nd_out = self.dropout(nd_out.view(nd_out.size(0), -1))\n",
    "        out = self.linear(nd_out)\n",
    "        return out\n",
    "\n",
    "# Training and evaluation function\n",
    "def train_and_evaluate(model, train_loader, val_loader, test_loader, criterion, optimizer, epochs=50):\n",
    "    \"\"\"\n",
    "    Train and evaluate a model with MSE loss.\n",
    "    \n",
    "    Args:\n",
    "        model: Model to train\n",
    "        train_loader: Training data loader\n",
    "        val_loader: Validation data loader\n",
    "        test_loader: Test data loader\n",
    "        criterion: Loss function (MSELoss)\n",
    "        optimizer: Optimizer\n",
    "        epochs: Number of training epochs\n",
    "    \n",
    "    Returns:\n",
    "        Tuple of (train_losses, val_losses, test_loss)\n",
    "    \"\"\"\n",
    "    train_losses = []\n",
    "    val_losses = []\n",
    "    for epoch in range(epochs):\n",
    "        model.train()\n",
    "        train_loss = 0\n",
    "        for X_batch, y_batch in train_loader:\n",
    "            optimizer.zero_grad()\n",
    "            output = model(X_batch)\n",
    "            loss = criterion(output.squeeze(), y_batch)\n",
    "            loss.backward()\n",
    "            optimizer.step()\n",
    "            train_loss += loss.item()\n",
    "        train_loss /= len(train_loader)\n",
    "        train_losses.append(train_loss)\n",
    "        \n",
    "        model.eval()\n",
    "        val_loss = 0\n",
    "        with torch.no_grad():\n",
    "            for X_batch, y_batch in val_loader:\n",
    "                output = model(X_batch)\n",
    "                loss = criterion(output.squeeze(), y_batch)\n",
    "                val_loss += loss.item()\n",
    "            val_loss /= len(val_loader)\n",
    "            val_losses.append(val_loss)\n",
    "        \n",
    "        print(f\"Epoch {epoch+1}, Train Loss: {train_loss:.4f}, Val Loss: {val_loss:.4f}\")\n",
    "    \n",
    "    model.eval()\n",
    "    test_loss = 0\n",
    "    with torch.no_grad():\n",
    "        for X_batch, y_batch in test_loader:\n",
    "            output = model(X_batch)\n",
    "            loss = criterion(output.squeeze(), y_batch)\n",
    "            test_loss += loss.item()\n",
    "        test_loss /= len(test_loader)\n",
    "    print(f\"Test Loss: {test_loss:.4f}\")\n",
    "    return train_losses, val_losses, test_loss\n",
    "\n",
    "# Initialize models\n",
    "input_size = 12  # Number of features\n",
    "hidden_size = 128\n",
    "output_size = 1\n",
    "nd_hidden = (64, 32)  # Multi-dimensional hidden layer for NdLinear\n",
    "\n",
    "lstm_linear = LSTM_Linear(input_size, hidden_size, output_size).to(device)\n",
    "lstm_ndlinear = LSTM_NdLinear(input_size, hidden_size, output_size, nd_hidden).to(device)\n",
    "\n",
    "# Define loss and optimizers\n",
    "criterion = nn.MSELoss().to(device)\n",
    "optimizer_lstm_linear = optim.Adam(lstm_linear.parameters(), lr=0.001)\n",
    "optimizer_lstm_ndlinear = optim.Adam(lstm_ndlinear.parameters(), lr=0.001)\n",
    "\n",
    "# Train and evaluate LSTM_Linear\n",
    "print(\"Training LSTM_Linear...\")\n",
    "train_losses_lstm_linear, val_losses_lstm_linear, test_floss_lstm_linear = train_and_evaluate(\n",
    "    lstm_linear, train_loader, val_loader, test_loader, criterion, optimizer_lstm_linear\n",
    ")\n",
    "\n",
    "# Train and evaluate LSTM_NdLinear\n",
    "print(\"Training LSTM_NdLinear...\")\n",
    "train_losses_lstm_ndlinear, val_losses_lstm_ndlinear, test_loss_lstm_ndlinear = train_and_evaluate(\n",
    "    lstm_ndlinear, train_loader, val_loader, test_loader, criterion, optimizer_lstm_ndlinear\n",
    ")"
   ]
  },
  {
   "cell_type": "code",
   "execution_count": 108,
   "id": "9e0d01b8-b223-4c8a-bc34-301b2e1beba3",
   "metadata": {},
   "outputs": [
    {
     "name": "stdout",
     "output_type": "stream",
     "text": [
      "Training RNN_Linear...\n",
      "Epoch 1, Train Loss: 1.0544, Val Loss: 1.0617\n",
      "Epoch 2, Train Loss: 1.0223, Val Loss: 1.0579\n",
      "Epoch 3, Train Loss: 1.0149, Val Loss: 1.0592\n",
      "Epoch 4, Train Loss: 1.0140, Val Loss: 1.0561\n",
      "Epoch 5, Train Loss: 1.0123, Val Loss: 1.0631\n",
      "Epoch 6, Train Loss: 1.0124, Val Loss: 1.0558\n",
      "Epoch 7, Train Loss: 1.0146, Val Loss: 1.0595\n",
      "Epoch 8, Train Loss: 1.0145, Val Loss: 1.0670\n",
      "Epoch 9, Train Loss: 1.0156, Val Loss: 1.0598\n",
      "Epoch 10, Train Loss: 1.0159, Val Loss: 1.0596\n",
      "Epoch 11, Train Loss: 1.0156, Val Loss: 1.0742\n",
      "Epoch 12, Train Loss: 1.0132, Val Loss: 1.0570\n",
      "Epoch 13, Train Loss: 1.0176, Val Loss: 1.0625\n",
      "Epoch 14, Train Loss: 1.0156, Val Loss: 1.1226\n",
      "Epoch 15, Train Loss: 1.0162, Val Loss: 1.0563\n",
      "Epoch 16, Train Loss: 1.0185, Val Loss: 1.0860\n",
      "Epoch 17, Train Loss: 1.0164, Val Loss: 1.0558\n",
      "Epoch 18, Train Loss: 1.0155, Val Loss: 1.0558\n",
      "Epoch 19, Train Loss: 1.0161, Val Loss: 1.0570\n",
      "Epoch 20, Train Loss: 1.0179, Val Loss: 1.1005\n",
      "Epoch 21, Train Loss: 1.0153, Val Loss: 1.0747\n",
      "Epoch 22, Train Loss: 1.0200, Val Loss: 1.0573\n",
      "Epoch 23, Train Loss: 1.0198, Val Loss: 1.0580\n",
      "Epoch 24, Train Loss: 1.0174, Val Loss: 1.0584\n",
      "Epoch 25, Train Loss: 1.0173, Val Loss: 1.0976\n",
      "Epoch 26, Train Loss: 1.0190, Val Loss: 1.0566\n",
      "Epoch 27, Train Loss: 1.0199, Val Loss: 1.0883\n",
      "Epoch 28, Train Loss: 1.0191, Val Loss: 1.0581\n",
      "Epoch 29, Train Loss: 1.0143, Val Loss: 1.0572\n",
      "Epoch 30, Train Loss: 1.0192, Val Loss: 1.0569\n",
      "Epoch 31, Train Loss: 1.0207, Val Loss: 1.0675\n",
      "Epoch 32, Train Loss: 1.0182, Val Loss: 1.0571\n",
      "Epoch 33, Train Loss: 1.0191, Val Loss: 1.0587\n",
      "Epoch 34, Train Loss: 1.0162, Val Loss: 1.0571\n",
      "Epoch 35, Train Loss: 1.0245, Val Loss: 1.0560\n",
      "Epoch 36, Train Loss: 1.0172, Val Loss: 1.0563\n",
      "Epoch 37, Train Loss: 1.0171, Val Loss: 1.0557\n",
      "Epoch 38, Train Loss: 1.0174, Val Loss: 1.0613\n",
      "Epoch 39, Train Loss: 1.0166, Val Loss: 1.0580\n",
      "Epoch 40, Train Loss: 1.0194, Val Loss: 1.0589\n",
      "Epoch 41, Train Loss: 1.0156, Val Loss: 1.0808\n",
      "Epoch 42, Train Loss: 1.0196, Val Loss: 1.0695\n",
      "Epoch 43, Train Loss: 1.0169, Val Loss: 1.0717\n",
      "Epoch 44, Train Loss: 1.0211, Val Loss: 1.0575\n",
      "Epoch 45, Train Loss: 1.0147, Val Loss: 1.0639\n",
      "Epoch 46, Train Loss: 1.0191, Val Loss: 1.0917\n",
      "Epoch 47, Train Loss: 1.0188, Val Loss: 1.0637\n",
      "Epoch 48, Train Loss: 1.0150, Val Loss: 1.0550\n",
      "Epoch 49, Train Loss: 1.0207, Val Loss: 1.0876\n",
      "Epoch 50, Train Loss: 1.0144, Val Loss: 1.0699\n",
      "Test Loss: 0.9221\n",
      "Training RNN_NdLinear...\n",
      "Epoch 1, Train Loss: 1.1121, Val Loss: 1.1049\n",
      "Epoch 2, Train Loss: 1.0711, Val Loss: 1.0579\n",
      "Epoch 3, Train Loss: 1.0683, Val Loss: 1.1206\n",
      "Epoch 4, Train Loss: 1.0453, Val Loss: 1.0636\n",
      "Epoch 5, Train Loss: 1.0469, Val Loss: 1.0789\n",
      "Epoch 6, Train Loss: 1.0413, Val Loss: 1.0582\n",
      "Epoch 7, Train Loss: 1.0271, Val Loss: 1.0701\n",
      "Epoch 8, Train Loss: 1.0229, Val Loss: 1.0589\n",
      "Epoch 9, Train Loss: 1.0193, Val Loss: 1.0567\n",
      "Epoch 10, Train Loss: 1.0151, Val Loss: 1.0568\n",
      "Epoch 11, Train Loss: 1.0136, Val Loss: 1.0598\n",
      "Epoch 12, Train Loss: 1.0118, Val Loss: 1.0566\n",
      "Epoch 13, Train Loss: 1.0102, Val Loss: 1.0626\n",
      "Epoch 14, Train Loss: 1.0096, Val Loss: 1.0564\n",
      "Epoch 15, Train Loss: 1.0087, Val Loss: 1.0563\n",
      "Epoch 16, Train Loss: 1.0077, Val Loss: 1.0569\n",
      "Epoch 17, Train Loss: 1.0088, Val Loss: 1.0564\n",
      "Epoch 18, Train Loss: 1.0079, Val Loss: 1.0566\n",
      "Epoch 19, Train Loss: 1.0076, Val Loss: 1.0569\n",
      "Epoch 20, Train Loss: 1.0069, Val Loss: 1.0647\n",
      "Epoch 21, Train Loss: 1.0076, Val Loss: 1.0574\n",
      "Epoch 22, Train Loss: 1.0073, Val Loss: 1.0574\n",
      "Epoch 23, Train Loss: 1.0074, Val Loss: 1.0558\n",
      "Epoch 24, Train Loss: 1.0070, Val Loss: 1.0563\n",
      "Epoch 25, Train Loss: 1.0066, Val Loss: 1.0609\n",
      "Epoch 26, Train Loss: 1.0070, Val Loss: 1.0567\n",
      "Epoch 27, Train Loss: 1.0074, Val Loss: 1.0585\n",
      "Epoch 28, Train Loss: 1.0075, Val Loss: 1.0566\n",
      "Epoch 29, Train Loss: 1.0073, Val Loss: 1.0565\n",
      "Epoch 30, Train Loss: 1.0073, Val Loss: 1.0570\n",
      "Epoch 31, Train Loss: 1.0072, Val Loss: 1.0572\n",
      "Epoch 32, Train Loss: 1.0074, Val Loss: 1.0597\n",
      "Epoch 33, Train Loss: 1.0071, Val Loss: 1.0572\n",
      "Epoch 34, Train Loss: 1.0075, Val Loss: 1.0580\n",
      "Epoch 35, Train Loss: 1.0080, Val Loss: 1.0564\n",
      "Epoch 36, Train Loss: 1.0075, Val Loss: 1.0562\n",
      "Epoch 37, Train Loss: 1.0079, Val Loss: 1.0600\n",
      "Epoch 38, Train Loss: 1.0073, Val Loss: 1.0567\n",
      "Epoch 39, Train Loss: 1.0073, Val Loss: 1.0565\n",
      "Epoch 40, Train Loss: 1.0079, Val Loss: 1.0574\n",
      "Epoch 41, Train Loss: 1.0081, Val Loss: 1.0578\n",
      "Epoch 42, Train Loss: 1.0080, Val Loss: 1.0569\n",
      "Epoch 43, Train Loss: 1.0076, Val Loss: 1.0581\n",
      "Epoch 44, Train Loss: 1.0075, Val Loss: 1.0562\n",
      "Epoch 45, Train Loss: 1.0076, Val Loss: 1.0563\n",
      "Epoch 46, Train Loss: 1.0074, Val Loss: 1.0576\n",
      "Epoch 47, Train Loss: 1.0082, Val Loss: 1.0568\n",
      "Epoch 48, Train Loss: 1.0077, Val Loss: 1.0580\n",
      "Epoch 49, Train Loss: 1.0078, Val Loss: 1.0564\n",
      "Epoch 50, Train Loss: 1.0074, Val Loss: 1.0565\n",
      "Test Loss: 0.9139\n"
     ]
    }
   ],
   "source": [
    "# Define RNN_Linear model\n",
    "class RNN_Linear(nn.Module):\n",
    "    def __init__(self, input_size, hidden_size, output_size, num_layers=2, dropout_rate=0.3):\n",
    "        super(RNN_Linear, self).__init__()\n",
    "        self.rnn = nn.RNN(input_size, hidden_size, num_layers, batch_first=True, dropout=dropout_rate if num_layers > 1 else 0).to(device)\n",
    "        self.dropout = nn.Dropout(dropout_rate).to(device)\n",
    "        self.linear = nn.Linear(hidden_size, output_size).to(device)\n",
    "\n",
    "    def forward(self, x):\n",
    "        rnn_out, _ = self.rnn(x)\n",
    "        out = self.dropout(rnn_out[:, -1, :])\n",
    "        out = self.linear(out)\n",
    "        return out\n",
    "\n",
    "# Define RNN_NdLinear model with multi-dimensional hidden layers\n",
    "class RNN_NdLinear(nn.Module):\n",
    "    def __init__(self, input_size, hidden_size, output_size, nd_hidden=(64, 32), num_layers=2, dropout_rate=0.3):\n",
    "        super(RNN_NdLinear, self).__init__()\n",
    "        self.rnn = nn.RNN(input_size, hidden_size, num_layers, batch_first=True, dropout=dropout_rate if num_layers > 1 else 0).to(device)\n",
    "        self.dropout = nn.Dropout(dropout_rate).to(device)\n",
    "        self.ndlinear = NdLinear(input_dims=(hidden_size, 1), hidden_size=nd_hidden).to(device)\n",
    "        self.linear = nn.Linear(np.prod(nd_hidden), output_size).to(device)\n",
    "\n",
    "    def forward(self, x):\n",
    "        rnn_out, _ = self.rnn(x)\n",
    "        last_out = rnn_out[:, -1, :].unsqueeze(-1)\n",
    "        nd_out = self.ndlinear(last_out)\n",
    "        nd_out = self.dropout(nd_out.view(nd_out.size(0), -1))\n",
    "        out = self.linear(nd_out)\n",
    "        return out\n",
    "\n",
    "# Training and evaluation function\n",
    "def train_and_evaluate(model, train_loader, val_loader, test_loader, criterion, optimizer, epochs=50):\n",
    "    train_losses = []\n",
    "    val_losses = []\n",
    "    for epoch in range(epochs):\n",
    "        model.train()\n",
    "        train_loss = 0\n",
    "        for X_batch, y_batch in train_loader:\n",
    "            optimizer.zero_grad()\n",
    "            output = model(X_batch)\n",
    "            loss = criterion(output.squeeze(), y_batch)\n",
    "            loss.backward()\n",
    "            optimizer.step()\n",
    "            train_loss += loss.item()\n",
    "        train_loss /= len(train_loader)\n",
    "        train_losses.append(train_loss)\n",
    "        \n",
    "        model.eval()\n",
    "        val_loss = 0\n",
    "        with torch.no_grad():\n",
    "            for X_batch, y_batch in val_loader:\n",
    "                output = model(X_batch)\n",
    "                loss = criterion(output.squeeze(), y_batch)\n",
    "                val_loss += loss.item()\n",
    "            val_loss /= len(val_loader)\n",
    "            val_losses.append(val_loss)\n",
    "        \n",
    "        print(f\"Epoch {epoch+1}, Train Loss: {train_loss:.4f}, Val Loss: {val_loss:.4f}\")\n",
    "    \n",
    "    model.eval()\n",
    "    test_loss = 0\n",
    "    with torch.no_grad():\n",
    "        for X_batch, y_batch in test_loader:\n",
    "            output = model(X_batch)\n",
    "            loss = criterion(output.squeeze(), y_batch)\n",
    "            test_loss += loss.item()\n",
    "        test_loss /= len(test_loader)\n",
    "    print(f\"Test Loss: {test_loss:.4f}\")\n",
    "    return train_losses, val_losses, test_loss\n",
    "\n",
    "# Initialize models\n",
    "input_size = 12  # Number of features\n",
    "hidden_size = 128\n",
    "output_size = 1\n",
    "nd_hidden = (64, 32)  # Multi-dimensional hidden layer for NdLinear\n",
    "\n",
    "rnn_linear = RNN_Linear(input_size, hidden_size, output_size).to(device)\n",
    "rnn_ndlinear = RNN_NdLinear(input_size, hidden_size, output_size, nd_hidden).to(device)\n",
    "\n",
    "# Define loss and optimizers\n",
    "criterion = nn.MSELoss().to(device)\n",
    "optimizer_rnn_linear = optim.Adam(rnn_linear.parameters(), lr=0.001)\n",
    "optimizer_rnn_ndlinear = optim.Adam(rnn_ndlinear.parameters(), lr=0.001)\n",
    "\n",
    "# Train and evaluate RNN_Linear\n",
    "print(\"Training RNN_Linear...\")\n",
    "train_losses_rnn_linear, val_losses_rnn_linear, test_loss_rnn_linear = train_and_evaluate(\n",
    "    rnn_linear, train_loader, val_loader, test_loader, criterion, optimizer_rnn_linear\n",
    ")\n",
    "\n",
    "# Train and evaluate RNN_NdLinear\n",
    "print(\"Training RNN_NdLinear...\")\n",
    "train_losses_rnn_ndlinear, val_losses_rnn_ndlinear, test_loss_rnn_ndlinear = train_and_evaluate(\n",
    "    rnn_ndlinear, train_loader, val_loader, test_loader, criterion, optimizer_rnn_ndlinear\n",
    ")"
   ]
  },
  {
   "cell_type": "code",
   "execution_count": 109,
   "id": "2eb391dd-8e6a-4526-ac93-0ba1c1421711",
   "metadata": {},
   "outputs": [
    {
     "name": "stdout",
     "output_type": "stream",
     "text": [
      "Training TCN_Linear...\n",
      "Epoch 1, Train Loss: 2.6110, Val Loss: 1.0969\n",
      "Epoch 2, Train Loss: 1.0467, Val Loss: 1.0611\n",
      "Epoch 3, Train Loss: 1.0200, Val Loss: 1.0723\n",
      "Epoch 4, Train Loss: 1.0206, Val Loss: 1.0596\n",
      "Epoch 5, Train Loss: 1.0171, Val Loss: 1.0590\n",
      "Epoch 6, Train Loss: 1.0186, Val Loss: 1.0613\n",
      "Epoch 7, Train Loss: 1.0125, Val Loss: 1.0633\n",
      "Epoch 8, Train Loss: 1.0107, Val Loss: 1.0670\n",
      "Epoch 9, Train Loss: 1.0094, Val Loss: 1.0617\n",
      "Epoch 10, Train Loss: 1.0055, Val Loss: 1.0638\n",
      "Epoch 11, Train Loss: 1.0067, Val Loss: 1.0583\n",
      "Epoch 12, Train Loss: 1.0044, Val Loss: 1.0590\n",
      "Epoch 13, Train Loss: 1.0016, Val Loss: 1.0592\n",
      "Epoch 14, Train Loss: 1.0016, Val Loss: 1.0598\n",
      "Epoch 15, Train Loss: 1.0013, Val Loss: 1.0580\n",
      "Epoch 16, Train Loss: 0.9994, Val Loss: 1.0591\n",
      "Epoch 17, Train Loss: 1.0002, Val Loss: 1.0591\n",
      "Epoch 18, Train Loss: 0.9995, Val Loss: 1.0590\n",
      "Epoch 19, Train Loss: 0.9988, Val Loss: 1.0601\n",
      "Epoch 20, Train Loss: 0.9984, Val Loss: 1.0636\n",
      "Epoch 21, Train Loss: 0.9992, Val Loss: 1.0626\n",
      "Epoch 22, Train Loss: 0.9997, Val Loss: 1.0587\n",
      "Epoch 23, Train Loss: 0.9984, Val Loss: 1.0794\n",
      "Epoch 24, Train Loss: 0.9987, Val Loss: 1.0583\n",
      "Epoch 25, Train Loss: 0.9993, Val Loss: 1.0598\n",
      "Epoch 26, Train Loss: 0.9960, Val Loss: 1.0694\n",
      "Epoch 27, Train Loss: 0.9962, Val Loss: 1.0594\n",
      "Epoch 28, Train Loss: 1.0000, Val Loss: 1.0604\n",
      "Epoch 29, Train Loss: 0.9972, Val Loss: 1.0582\n",
      "Epoch 30, Train Loss: 0.9946, Val Loss: 1.0589\n",
      "Epoch 31, Train Loss: 0.9950, Val Loss: 1.0628\n",
      "Epoch 32, Train Loss: 0.9974, Val Loss: 1.0607\n",
      "Epoch 33, Train Loss: 0.9942, Val Loss: 1.0625\n",
      "Epoch 34, Train Loss: 0.9951, Val Loss: 1.0642\n",
      "Epoch 35, Train Loss: 0.9964, Val Loss: 1.0636\n",
      "Epoch 36, Train Loss: 0.9945, Val Loss: 1.0652\n",
      "Epoch 37, Train Loss: 0.9945, Val Loss: 1.0598\n",
      "Epoch 38, Train Loss: 0.9956, Val Loss: 1.0577\n",
      "Epoch 39, Train Loss: 0.9951, Val Loss: 1.0627\n",
      "Epoch 40, Train Loss: 0.9941, Val Loss: 1.0602\n",
      "Epoch 41, Train Loss: 0.9932, Val Loss: 1.0589\n",
      "Epoch 42, Train Loss: 0.9943, Val Loss: 1.0617\n",
      "Epoch 43, Train Loss: 0.9935, Val Loss: 1.0647\n",
      "Epoch 44, Train Loss: 0.9945, Val Loss: 1.0673\n",
      "Epoch 45, Train Loss: 0.9904, Val Loss: 1.0638\n",
      "Epoch 46, Train Loss: 0.9913, Val Loss: 1.0613\n",
      "Epoch 47, Train Loss: 0.9911, Val Loss: 1.0745\n",
      "Epoch 48, Train Loss: 0.9915, Val Loss: 1.0619\n",
      "Epoch 49, Train Loss: 0.9928, Val Loss: 1.0592\n",
      "Epoch 50, Train Loss: 0.9917, Val Loss: 1.0736\n",
      "Test Loss: 0.9120\n",
      "Training TCN_NdLinear...\n",
      "Epoch 1, Train Loss: 1.2025, Val Loss: 1.0831\n",
      "Epoch 2, Train Loss: 1.0708, Val Loss: 1.0623\n",
      "Epoch 3, Train Loss: 1.0767, Val Loss: 1.0955\n",
      "Epoch 4, Train Loss: 1.0503, Val Loss: 1.0767\n",
      "Epoch 5, Train Loss: 1.0483, Val Loss: 1.0583\n",
      "Epoch 6, Train Loss: 1.0322, Val Loss: 1.1504\n",
      "Epoch 7, Train Loss: 1.0280, Val Loss: 1.0620\n",
      "Epoch 8, Train Loss: 1.0215, Val Loss: 1.0576\n",
      "Epoch 9, Train Loss: 1.0123, Val Loss: 1.0608\n",
      "Epoch 10, Train Loss: 1.0099, Val Loss: 1.0561\n",
      "Epoch 11, Train Loss: 1.0098, Val Loss: 1.0652\n",
      "Epoch 12, Train Loss: 1.0050, Val Loss: 1.0625\n",
      "Epoch 13, Train Loss: 1.0034, Val Loss: 1.0572\n",
      "Epoch 14, Train Loss: 1.0011, Val Loss: 1.0589\n",
      "Epoch 15, Train Loss: 1.0002, Val Loss: 1.0715\n",
      "Epoch 16, Train Loss: 0.9999, Val Loss: 1.0667\n",
      "Epoch 17, Train Loss: 1.0000, Val Loss: 1.0571\n",
      "Epoch 18, Train Loss: 0.9999, Val Loss: 1.0593\n",
      "Epoch 19, Train Loss: 0.9973, Val Loss: 1.0625\n",
      "Epoch 20, Train Loss: 0.9966, Val Loss: 1.0660\n",
      "Epoch 21, Train Loss: 0.9973, Val Loss: 1.0579\n",
      "Epoch 22, Train Loss: 0.9955, Val Loss: 1.0653\n",
      "Epoch 23, Train Loss: 0.9965, Val Loss: 1.0616\n",
      "Epoch 24, Train Loss: 0.9957, Val Loss: 1.0603\n",
      "Epoch 25, Train Loss: 0.9942, Val Loss: 1.0604\n",
      "Epoch 26, Train Loss: 0.9953, Val Loss: 1.0588\n",
      "Epoch 27, Train Loss: 0.9940, Val Loss: 1.0662\n",
      "Epoch 28, Train Loss: 0.9933, Val Loss: 1.0738\n",
      "Epoch 29, Train Loss: 0.9925, Val Loss: 1.0737\n",
      "Epoch 30, Train Loss: 0.9902, Val Loss: 1.0581\n",
      "Epoch 31, Train Loss: 0.9922, Val Loss: 1.0610\n",
      "Epoch 32, Train Loss: 0.9923, Val Loss: 1.0621\n",
      "Epoch 33, Train Loss: 0.9893, Val Loss: 1.0891\n",
      "Epoch 34, Train Loss: 0.9907, Val Loss: 1.0662\n",
      "Epoch 35, Train Loss: 0.9903, Val Loss: 1.0680\n",
      "Epoch 36, Train Loss: 0.9880, Val Loss: 1.0677\n",
      "Epoch 37, Train Loss: 0.9887, Val Loss: 1.0628\n",
      "Epoch 38, Train Loss: 0.9878, Val Loss: 1.0658\n",
      "Epoch 39, Train Loss: 0.9872, Val Loss: 1.0678\n",
      "Epoch 40, Train Loss: 0.9883, Val Loss: 1.0687\n",
      "Epoch 41, Train Loss: 0.9883, Val Loss: 1.0662\n",
      "Epoch 42, Train Loss: 0.9875, Val Loss: 1.0688\n",
      "Epoch 43, Train Loss: 0.9865, Val Loss: 1.0641\n",
      "Epoch 44, Train Loss: 0.9858, Val Loss: 1.0732\n",
      "Epoch 45, Train Loss: 0.9868, Val Loss: 1.0712\n",
      "Epoch 46, Train Loss: 0.9854, Val Loss: 1.0762\n",
      "Epoch 47, Train Loss: 0.9855, Val Loss: 1.0774\n",
      "Epoch 48, Train Loss: 0.9843, Val Loss: 1.0648\n",
      "Epoch 49, Train Loss: 0.9827, Val Loss: 1.0704\n",
      "Epoch 50, Train Loss: 0.9824, Val Loss: 1.0877\n",
      "Test Loss: 0.9143\n"
     ]
    }
   ],
   "source": [
    "# Define TCN block\n",
    "class TCN(nn.Module):\n",
    "    def __init__(self, input_size, hidden_size, kernel_size=3):\n",
    "        super(TCN, self).__init__()\n",
    "        padding = (kernel_size - 1) // 2\n",
    "        self.conv = nn.Conv1d(input_size, hidden_size, kernel_size=kernel_size, padding=padding).to(device)\n",
    "        self.relu = nn.ReLU().to(device)\n",
    "\n",
    "    def forward(self, x):\n",
    "        x = x.transpose(1, 2)  # [batch, features, timesteps]\n",
    "        out = self.conv(x)\n",
    "        out = self.relu(out)\n",
    "        out = out.transpose(1, 2)  # [batch, timesteps, hidden_size]\n",
    "        return out\n",
    "\n",
    "# Define TCN_Linear model\n",
    "class TCN_Linear(nn.Module):\n",
    "    def __init__(self, input_size, hidden_size, output_size, dropout_rate=0.3):\n",
    "        super(TCN_Linear, self).__init__()\n",
    "        self.tcn = TCN(input_size, hidden_size).to(device)\n",
    "        self.dropout = nn.Dropout(dropout_rate).to(device)\n",
    "        self.linear = nn.Linear(hidden_size, output_size).to(device)\n",
    "\n",
    "    def forward(self, x):\n",
    "        tcn_out = self.tcn(x)\n",
    "        out = self.dropout(tcn_out[:, -1, :])\n",
    "        out = self.linear(out)\n",
    "        return out\n",
    "\n",
    "# Define TCN_NdLinear model with multi-dimensional hidden layers\n",
    "class TCN_NdLinear(nn.Module):\n",
    "    def __init__(self, input_size, hidden_size, output_size, nd_hidden=(64, 32), dropout_rate=0.3):\n",
    "        super(TCN_NdLinear, self).__init__()\n",
    "        self.tcn = TCN(input_size, hidden_size).to(device)\n",
    "        self.dropout = nn.Dropout(dropout_rate).to(device)\n",
    "        self.ndlinear = NdLinear(input_dims=(hidden_size, 1), hidden_size=nd_hidden).to(device)\n",
    "        self.linear = nn.Linear(np.prod(nd_hidden), output_size).to(device)\n",
    "\n",
    "    def forward(self, x):\n",
    "        tcn_out = self.tcn(x)\n",
    "        last_out = tcn_out[:, -1, :].unsqueeze(-1)\n",
    "        nd_out = self.ndlinear(last_out)\n",
    "        nd_out = self.dropout(nd_out.view(nd_out.size(0), -1))\n",
    "        out = self.linear(nd_out)\n",
    "        return out\n",
    "\n",
    "# Training and evaluation function\n",
    "def train_and_evaluate(model, train_loader, val_loader, test_loader, criterion, optimizer, epochs=50):\n",
    "    train_losses = []\n",
    "    val_losses = []\n",
    "    for epoch in range(epochs):\n",
    "        model.train()\n",
    "        train_loss = 0\n",
    "        for X_batch, y_batch in train_loader:\n",
    "            optimizer.zero_grad()\n",
    "            output = model(X_batch)\n",
    "            loss = criterion(output.squeeze(), y_batch)\n",
    "            loss.backward()\n",
    "            optimizer.step()\n",
    "            train_loss += loss.item()\n",
    "        train_loss /= len(train_loader)\n",
    "        train_losses.append(train_loss)\n",
    "        \n",
    "        model.eval()\n",
    "        val_loss = 0\n",
    "        with torch.no_grad():\n",
    "            for X_batch, y_batch in val_loader:\n",
    "                output = model(X_batch)\n",
    "                loss = criterion(output.squeeze(), y_batch)\n",
    "                val_loss += loss.item()\n",
    "            val_loss /= len(val_loader)\n",
    "            val_losses.append(val_loss)\n",
    "        \n",
    "        print(f\"Epoch {epoch+1}, Train Loss: {train_loss:.4f}, Val Loss: {val_loss:.4f}\")\n",
    "    \n",
    "    model.eval()\n",
    "    test_loss = 0\n",
    "    with torch.no_grad():\n",
    "        for X_batch, y_batch in test_loader:\n",
    "            output = model(X_batch)\n",
    "            loss = criterion(output.squeeze(), y_batch)\n",
    "            test_loss += loss.item()\n",
    "        test_loss /= len(test_loader)\n",
    "    print(f\"Test Loss: {test_loss:.4f}\")\n",
    "    return train_losses, val_losses, test_loss\n",
    "\n",
    "# Initialize models\n",
    "input_size = 12  # Number of features\n",
    "hidden_size = 128\n",
    "output_size = 1\n",
    "nd_hidden = (64, 32)  # Multi-dimensional hidden layer for NdLinear\n",
    "\n",
    "tcn_linear = TCN_Linear(input_size, hidden_size, output_size).to(device)\n",
    "tcn_ndlinear = TCN_NdLinear(input_size, hidden_size, output_size, nd_hidden).to(device)\n",
    "\n",
    "# Define loss and optimizers\n",
    "criterion = nn.MSELoss().to(device)\n",
    "optimizer_tcn_linear = optim.Adam(tcn_linear.parameters(), lr=0.001)\n",
    "optimizer_tcn_ndlinear = optim.Adam(tcn_ndlinear.parameters(), lr=0.001)\n",
    "\n",
    "# Train and evaluate TCN_Linear\n",
    "print(\"Training TCN_Linear...\")\n",
    "train_losses_tcn_linear, val_losses_tcn_linear, test_loss_tcn_linear = train_and_evaluate(\n",
    "    tcn_linear, train_loader, val_loader, test_loader, criterion, optimizer_tcn_linear\n",
    ")\n",
    "\n",
    "# Train and evaluate TCN_NdLinear\n",
    "print(\"Training TCN_NdLinear...\")\n",
    "train_losses_tcn_ndlinear, val_losses_tcn_ndlinear, test_loss_tcn_ndlinear = train_and_evaluate(\n",
    "    tcn_ndlinear, train_loader, val_loader, test_loader, criterion, optimizer_tcn_ndlinear\n",
    ")"
   ]
  },
  {
   "cell_type": "code",
   "execution_count": 110,
   "id": "ee3b568c-89e6-4872-9154-0d8c90434e53",
   "metadata": {},
   "outputs": [],
   "source": [
    "torch.save(lstm_linear,\"lstm_linear.pth\")\n",
    "torch.save(lstm_ndlinear,\"lstm_ndlinear.pth\")\n",
    "torch.save(rnn_linear,\"rnn_linear.pth\")\n",
    "torch.save(rnn_ndlinear,\"rnn_ndlinear.pth\")\n",
    "torch.save(tcn_linear,\"tcn_linear.pth\")\n",
    "torch.save(tcn_ndlinear,\"tcn_ndlinear.pth\")\n"
   ]
  },
  {
   "cell_type": "code",
   "execution_count": 112,
   "id": "9aa049f8-c0fd-4f4c-b507-82e1efcc1ef4",
   "metadata": {},
   "outputs": [
    {
     "name": "stderr",
     "output_type": "stream",
     "text": [
      "C:\\Users\\ajayk\\AppData\\Local\\Temp\\ipykernel_34632\\2523447893.py:179: FutureWarning: `torch.cuda.amp.GradScaler(args...)` is deprecated. Please use `torch.amp.GradScaler('cuda', args...)` instead.\n",
      "  scaler = torch.cuda.amp.GradScaler()\n",
      "C:\\kanish\\pypackages\\Lib\\site-packages\\torch\\amp\\grad_scaler.py:132: UserWarning: torch.cuda.amp.GradScaler is enabled, but CUDA is not available.  Disabling.\n",
      "  warnings.warn(\n"
     ]
    },
    {
     "name": "stdout",
     "output_type": "stream",
     "text": [
      "Training Transformer_NdLinear...\n"
     ]
    },
    {
     "name": "stderr",
     "output_type": "stream",
     "text": [
      "Training Transformer_NdLinear Epoch 1/50:   0%|                                                | 0/424 [00:00<?, ?it/s]C:\\Users\\ajayk\\AppData\\Local\\Temp\\ipykernel_34632\\2523447893.py:190: FutureWarning: `torch.cuda.amp.autocast(args...)` is deprecated. Please use `torch.amp.autocast('cuda', args...)` instead.\n",
      "  with torch.cuda.amp.autocast():\n",
      "C:\\kanish\\pypackages\\Lib\\site-packages\\torch\\amp\\autocast_mode.py:266: UserWarning: User provided device_type of 'cuda', but CUDA is not available. Disabling\n",
      "  warnings.warn(\n",
      "                                                                                                                       \r"
     ]
    },
    {
     "name": "stdout",
     "output_type": "stream",
     "text": [
      "Transformer_NdLinear Epoch 1/50, Train Loss: 1.0434, Val Loss: 1.1114, Val Output Std: 0.050906, Min Val Pred: 0.089696, Max Val Pred: 0.464027\n"
     ]
    },
    {
     "name": "stderr",
     "output_type": "stream",
     "text": [
      "                                                                                                                       \r"
     ]
    },
    {
     "name": "stdout",
     "output_type": "stream",
     "text": [
      "Transformer_NdLinear Epoch 2/50, Train Loss: 1.0210, Val Loss: 1.1382, Val Output Std: 0.047282, Min Val Pred: 0.147570, Max Val Pred: 0.507407\n"
     ]
    },
    {
     "name": "stderr",
     "output_type": "stream",
     "text": [
      "                                                                                                                       \r"
     ]
    },
    {
     "name": "stdout",
     "output_type": "stream",
     "text": [
      "Transformer_NdLinear Epoch 3/50, Train Loss: 1.0156, Val Loss: 1.1439, Val Output Std: 0.047154, Min Val Pred: 0.160941, Max Val Pred: 0.489546\n"
     ]
    },
    {
     "name": "stderr",
     "output_type": "stream",
     "text": [
      "                                                                                                                       \r"
     ]
    },
    {
     "name": "stdout",
     "output_type": "stream",
     "text": [
      "Transformer_NdLinear Epoch 4/50, Train Loss: 1.0098, Val Loss: 1.1273, Val Output Std: 0.047519, Min Val Pred: 0.118750, Max Val Pred: 0.449565\n"
     ]
    },
    {
     "name": "stderr",
     "output_type": "stream",
     "text": [
      "                                                                                                                       \r"
     ]
    },
    {
     "name": "stdout",
     "output_type": "stream",
     "text": [
      "Transformer_NdLinear Epoch 5/50, Train Loss: 1.0112, Val Loss: 1.1306, Val Output Std: 0.048744, Min Val Pred: 0.124550, Max Val Pred: 0.447142\n"
     ]
    },
    {
     "name": "stderr",
     "output_type": "stream",
     "text": [
      "                                                                                                                       \r"
     ]
    },
    {
     "name": "stdout",
     "output_type": "stream",
     "text": [
      "Transformer_NdLinear Epoch 6/50, Train Loss: 1.0090, Val Loss: 1.1489, Val Output Std: 0.050562, Min Val Pred: 0.140765, Max Val Pred: 0.471836\n"
     ]
    },
    {
     "name": "stderr",
     "output_type": "stream",
     "text": [
      "                                                                                                                       \r"
     ]
    },
    {
     "name": "stdout",
     "output_type": "stream",
     "text": [
      "Transformer_NdLinear Epoch 7/50, Train Loss: 1.0090, Val Loss: 1.1820, Val Output Std: 0.046892, Min Val Pred: 0.201378, Max Val Pred: 0.538468\n"
     ]
    },
    {
     "name": "stderr",
     "output_type": "stream",
     "text": [
      "                                                                                                                       \r"
     ]
    },
    {
     "name": "stdout",
     "output_type": "stream",
     "text": [
      "Transformer_NdLinear Epoch 8/50, Train Loss: 1.0076, Val Loss: 1.1316, Val Output Std: 0.048481, Min Val Pred: 0.112943, Max Val Pred: 0.455603\n"
     ]
    },
    {
     "name": "stderr",
     "output_type": "stream",
     "text": [
      "                                                                                                                       \r"
     ]
    },
    {
     "name": "stdout",
     "output_type": "stream",
     "text": [
      "Transformer_NdLinear Epoch 9/50, Train Loss: 1.0091, Val Loss: 1.1463, Val Output Std: 0.045740, Min Val Pred: 0.153303, Max Val Pred: 0.478573\n"
     ]
    },
    {
     "name": "stderr",
     "output_type": "stream",
     "text": [
      "                                                                                                                       \r"
     ]
    },
    {
     "name": "stdout",
     "output_type": "stream",
     "text": [
      "Transformer_NdLinear Epoch 10/50, Train Loss: 1.0082, Val Loss: 1.1356, Val Output Std: 0.047234, Min Val Pred: 0.132379, Max Val Pred: 0.488164\n"
     ]
    },
    {
     "name": "stderr",
     "output_type": "stream",
     "text": [
      "                                                                                                                       \r"
     ]
    },
    {
     "name": "stdout",
     "output_type": "stream",
     "text": [
      "Transformer_NdLinear Epoch 11/50, Train Loss: 1.0083, Val Loss: 1.1261, Val Output Std: 0.050594, Min Val Pred: 0.091849, Max Val Pred: 0.474504\n"
     ]
    },
    {
     "name": "stderr",
     "output_type": "stream",
     "text": [
      "                                                                                                                       \r"
     ]
    },
    {
     "name": "stdout",
     "output_type": "stream",
     "text": [
      "Transformer_NdLinear Epoch 12/50, Train Loss: 1.0082, Val Loss: 1.1531, Val Output Std: 0.053568, Min Val Pred: 0.126034, Max Val Pred: 0.537244\n"
     ]
    },
    {
     "name": "stderr",
     "output_type": "stream",
     "text": [
      "                                                                                                                       \r"
     ]
    },
    {
     "name": "stdout",
     "output_type": "stream",
     "text": [
      "Transformer_NdLinear Epoch 13/50, Train Loss: 1.0079, Val Loss: 1.1506, Val Output Std: 0.052351, Min Val Pred: 0.111530, Max Val Pred: 0.512624\n"
     ]
    },
    {
     "name": "stderr",
     "output_type": "stream",
     "text": [
      "                                                                                                                       \r"
     ]
    },
    {
     "name": "stdout",
     "output_type": "stream",
     "text": [
      "Transformer_NdLinear Epoch 14/50, Train Loss: 1.0077, Val Loss: 1.0827, Val Output Std: 0.049657, Min Val Pred: -0.035804, Max Val Pred: 0.402221\n"
     ]
    },
    {
     "name": "stderr",
     "output_type": "stream",
     "text": [
      "                                                                                                                       \r"
     ]
    },
    {
     "name": "stdout",
     "output_type": "stream",
     "text": [
      "Transformer_NdLinear Epoch 15/50, Train Loss: 1.0070, Val Loss: 1.1489, Val Output Std: 0.051458, Min Val Pred: 0.108124, Max Val Pred: 0.531447\n"
     ]
    },
    {
     "name": "stderr",
     "output_type": "stream",
     "text": [
      "                                                                                                                       \r"
     ]
    },
    {
     "name": "stdout",
     "output_type": "stream",
     "text": [
      "Transformer_NdLinear Epoch 16/50, Train Loss: 1.0072, Val Loss: 1.1115, Val Output Std: 0.061948, Min Val Pred: -0.011215, Max Val Pred: 0.469932\n"
     ]
    },
    {
     "name": "stderr",
     "output_type": "stream",
     "text": [
      "                                                                                                                       \r"
     ]
    },
    {
     "name": "stdout",
     "output_type": "stream",
     "text": [
      "Transformer_NdLinear Epoch 17/50, Train Loss: 1.0059, Val Loss: 1.0832, Val Output Std: 0.059926, Min Val Pred: -0.079448, Max Val Pred: 0.429139\n"
     ]
    },
    {
     "name": "stderr",
     "output_type": "stream",
     "text": [
      "                                                                                                                       \r"
     ]
    },
    {
     "name": "stdout",
     "output_type": "stream",
     "text": [
      "Transformer_NdLinear Epoch 18/50, Train Loss: 1.0071, Val Loss: 1.1097, Val Output Std: 0.061684, Min Val Pred: -0.001676, Max Val Pred: 0.487741\n"
     ]
    },
    {
     "name": "stderr",
     "output_type": "stream",
     "text": [
      "                                                                                                                       \r"
     ]
    },
    {
     "name": "stdout",
     "output_type": "stream",
     "text": [
      "Transformer_NdLinear Epoch 19/50, Train Loss: 1.0068, Val Loss: 1.0832, Val Output Std: 0.067154, Min Val Pred: -0.120928, Max Val Pred: 0.459434\n"
     ]
    },
    {
     "name": "stderr",
     "output_type": "stream",
     "text": [
      "                                                                                                                       \r"
     ]
    },
    {
     "name": "stdout",
     "output_type": "stream",
     "text": [
      "Transformer_NdLinear Epoch 20/50, Train Loss: 1.0068, Val Loss: 1.0891, Val Output Std: 0.067426, Min Val Pred: -0.077998, Max Val Pred: 0.504731\n"
     ]
    },
    {
     "name": "stderr",
     "output_type": "stream",
     "text": [
      "                                                                                                                       \r"
     ]
    },
    {
     "name": "stdout",
     "output_type": "stream",
     "text": [
      "Transformer_NdLinear Epoch 21/50, Train Loss: 1.0075, Val Loss: 1.0882, Val Output Std: 0.076687, Min Val Pred: -0.107105, Max Val Pred: 0.533921\n"
     ]
    },
    {
     "name": "stderr",
     "output_type": "stream",
     "text": [
      "                                                                                                                       \r"
     ]
    },
    {
     "name": "stdout",
     "output_type": "stream",
     "text": [
      "Transformer_NdLinear Epoch 22/50, Train Loss: 1.0071, Val Loss: 1.1089, Val Output Std: 0.084762, Min Val Pred: -0.105359, Max Val Pred: 0.615915\n"
     ]
    },
    {
     "name": "stderr",
     "output_type": "stream",
     "text": [
      "                                                                                                                       \r"
     ]
    },
    {
     "name": "stdout",
     "output_type": "stream",
     "text": [
      "Transformer_NdLinear Epoch 23/50, Train Loss: 1.0064, Val Loss: 1.0803, Val Output Std: 0.090012, Min Val Pred: -0.213558, Max Val Pred: 0.679926\n"
     ]
    },
    {
     "name": "stderr",
     "output_type": "stream",
     "text": [
      "                                                                                                                       \r"
     ]
    },
    {
     "name": "stdout",
     "output_type": "stream",
     "text": [
      "Transformer_NdLinear Epoch 24/50, Train Loss: 1.0066, Val Loss: 1.1175, Val Output Std: 0.111030, Min Val Pred: -0.086650, Max Val Pred: 0.727939\n"
     ]
    },
    {
     "name": "stderr",
     "output_type": "stream",
     "text": [
      "                                                                                                                       \r"
     ]
    },
    {
     "name": "stdout",
     "output_type": "stream",
     "text": [
      "Transformer_NdLinear Epoch 25/50, Train Loss: 1.0058, Val Loss: 1.0869, Val Output Std: 0.107878, Min Val Pred: -0.228975, Max Val Pred: 0.663510\n"
     ]
    },
    {
     "name": "stderr",
     "output_type": "stream",
     "text": [
      "                                                                                                                       \r"
     ]
    },
    {
     "name": "stdout",
     "output_type": "stream",
     "text": [
      "Transformer_NdLinear Epoch 26/50, Train Loss: 1.0064, Val Loss: 1.0912, Val Output Std: 0.108783, Min Val Pred: -0.258144, Max Val Pred: 0.718966\n"
     ]
    },
    {
     "name": "stderr",
     "output_type": "stream",
     "text": [
      "                                                                                                                       \r"
     ]
    },
    {
     "name": "stdout",
     "output_type": "stream",
     "text": [
      "Transformer_NdLinear Epoch 27/50, Train Loss: 1.0067, Val Loss: 1.1313, Val Output Std: 0.101311, Min Val Pred: -0.225038, Max Val Pred: 0.800953\n"
     ]
    },
    {
     "name": "stderr",
     "output_type": "stream",
     "text": [
      "                                                                                                                       \r"
     ]
    },
    {
     "name": "stdout",
     "output_type": "stream",
     "text": [
      "Transformer_NdLinear Epoch 28/50, Train Loss: 1.0064, Val Loss: 1.1080, Val Output Std: 0.131184, Min Val Pred: -0.392675, Max Val Pred: 0.879912\n"
     ]
    },
    {
     "name": "stderr",
     "output_type": "stream",
     "text": [
      "                                                                                                                       \r"
     ]
    },
    {
     "name": "stdout",
     "output_type": "stream",
     "text": [
      "Transformer_NdLinear Epoch 29/50, Train Loss: 1.0050, Val Loss: 1.0834, Val Output Std: 0.134570, Min Val Pred: -0.379106, Max Val Pred: 1.029576\n"
     ]
    },
    {
     "name": "stderr",
     "output_type": "stream",
     "text": [
      "                                                                                                                       \r"
     ]
    },
    {
     "name": "stdout",
     "output_type": "stream",
     "text": [
      "Transformer_NdLinear Epoch 30/50, Train Loss: 1.0055, Val Loss: 1.1061, Val Output Std: 0.095052, Min Val Pred: -0.185021, Max Val Pred: 0.730906\n"
     ]
    },
    {
     "name": "stderr",
     "output_type": "stream",
     "text": [
      "                                                                                                                       \r"
     ]
    },
    {
     "name": "stdout",
     "output_type": "stream",
     "text": [
      "Transformer_NdLinear Epoch 31/50, Train Loss: 1.0063, Val Loss: 1.1011, Val Output Std: 0.100765, Min Val Pred: -0.211818, Max Val Pred: 0.771735\n"
     ]
    },
    {
     "name": "stderr",
     "output_type": "stream",
     "text": [
      "                                                                                                                       \r"
     ]
    },
    {
     "name": "stdout",
     "output_type": "stream",
     "text": [
      "Transformer_NdLinear Epoch 32/50, Train Loss: 1.0063, Val Loss: 1.0804, Val Output Std: 0.111861, Min Val Pred: -0.294679, Max Val Pred: 0.825891\n"
     ]
    },
    {
     "name": "stderr",
     "output_type": "stream",
     "text": [
      "                                                                                                                       \r"
     ]
    },
    {
     "name": "stdout",
     "output_type": "stream",
     "text": [
      "Transformer_NdLinear Epoch 33/50, Train Loss: 1.0051, Val Loss: 1.0910, Val Output Std: 0.129622, Min Val Pred: -0.319322, Max Val Pred: 0.973194\n"
     ]
    },
    {
     "name": "stderr",
     "output_type": "stream",
     "text": [
      "                                                                                                                       \r"
     ]
    },
    {
     "name": "stdout",
     "output_type": "stream",
     "text": [
      "Transformer_NdLinear Epoch 34/50, Train Loss: 1.0052, Val Loss: 1.1142, Val Output Std: 0.185572, Min Val Pred: -0.543174, Max Val Pred: 1.062720\n"
     ]
    },
    {
     "name": "stderr",
     "output_type": "stream",
     "text": [
      "                                                                                                                       \r"
     ]
    },
    {
     "name": "stdout",
     "output_type": "stream",
     "text": [
      "Transformer_NdLinear Epoch 35/50, Train Loss: 1.0062, Val Loss: 1.0779, Val Output Std: 0.137513, Min Val Pred: -0.470718, Max Val Pred: 0.972115\n"
     ]
    },
    {
     "name": "stderr",
     "output_type": "stream",
     "text": [
      "                                                                                                                       \r"
     ]
    },
    {
     "name": "stdout",
     "output_type": "stream",
     "text": [
      "Transformer_NdLinear Epoch 36/50, Train Loss: 1.0062, Val Loss: 1.0821, Val Output Std: 0.163545, Min Val Pred: -0.593992, Max Val Pred: 1.155070\n"
     ]
    },
    {
     "name": "stderr",
     "output_type": "stream",
     "text": [
      "                                                                                                                       \r"
     ]
    },
    {
     "name": "stdout",
     "output_type": "stream",
     "text": [
      "Transformer_NdLinear Epoch 37/50, Train Loss: 1.0047, Val Loss: 1.1077, Val Output Std: 0.216771, Min Val Pred: -0.697551, Max Val Pred: 1.203564\n"
     ]
    },
    {
     "name": "stderr",
     "output_type": "stream",
     "text": [
      "                                                                                                                       \r"
     ]
    },
    {
     "name": "stdout",
     "output_type": "stream",
     "text": [
      "Transformer_NdLinear Epoch 38/50, Train Loss: 1.0050, Val Loss: 1.1056, Val Output Std: 0.200240, Min Val Pred: -0.690435, Max Val Pred: 1.079283\n"
     ]
    },
    {
     "name": "stderr",
     "output_type": "stream",
     "text": [
      "                                                                                                                       \r"
     ]
    },
    {
     "name": "stdout",
     "output_type": "stream",
     "text": [
      "Transformer_NdLinear Epoch 39/50, Train Loss: 1.0050, Val Loss: 1.0814, Val Output Std: 0.150726, Min Val Pred: -0.572613, Max Val Pred: 0.922425\n"
     ]
    },
    {
     "name": "stderr",
     "output_type": "stream",
     "text": [
      "                                                                                                                       \r"
     ]
    },
    {
     "name": "stdout",
     "output_type": "stream",
     "text": [
      "Transformer_NdLinear Epoch 40/50, Train Loss: 1.0049, Val Loss: 1.0750, Val Output Std: 0.124724, Min Val Pred: -0.543648, Max Val Pred: 0.635870\n"
     ]
    },
    {
     "name": "stderr",
     "output_type": "stream",
     "text": [
      "                                                                                                                       \r"
     ]
    },
    {
     "name": "stdout",
     "output_type": "stream",
     "text": [
      "Transformer_NdLinear Epoch 41/50, Train Loss: 1.0049, Val Loss: 1.0906, Val Output Std: 0.174835, Min Val Pred: -0.715738, Max Val Pred: 0.935280\n"
     ]
    },
    {
     "name": "stderr",
     "output_type": "stream",
     "text": [
      "                                                                                                                       \r"
     ]
    },
    {
     "name": "stdout",
     "output_type": "stream",
     "text": [
      "Transformer_NdLinear Epoch 42/50, Train Loss: 1.0052, Val Loss: 1.0915, Val Output Std: 0.174294, Min Val Pred: -0.688215, Max Val Pred: 1.090464\n"
     ]
    },
    {
     "name": "stderr",
     "output_type": "stream",
     "text": [
      "                                                                                                                       \r"
     ]
    },
    {
     "name": "stdout",
     "output_type": "stream",
     "text": [
      "Transformer_NdLinear Epoch 43/50, Train Loss: 1.0047, Val Loss: 1.0949, Val Output Std: 0.183345, Min Val Pred: -0.710397, Max Val Pred: 1.234409\n"
     ]
    },
    {
     "name": "stderr",
     "output_type": "stream",
     "text": [
      "                                                                                                                       \r"
     ]
    },
    {
     "name": "stdout",
     "output_type": "stream",
     "text": [
      "Transformer_NdLinear Epoch 44/50, Train Loss: 1.0045, Val Loss: 1.1059, Val Output Std: 0.198374, Min Val Pred: -0.893720, Max Val Pred: 1.347284\n"
     ]
    },
    {
     "name": "stderr",
     "output_type": "stream",
     "text": [
      "                                                                                                                       \r"
     ]
    },
    {
     "name": "stdout",
     "output_type": "stream",
     "text": [
      "Transformer_NdLinear Epoch 45/50, Train Loss: 1.0061, Val Loss: 1.0727, Val Output Std: 0.107888, Min Val Pred: -0.555389, Max Val Pred: 0.770840\n"
     ]
    },
    {
     "name": "stderr",
     "output_type": "stream",
     "text": [
      "                                                                                                                       \r"
     ]
    },
    {
     "name": "stdout",
     "output_type": "stream",
     "text": [
      "Transformer_NdLinear Epoch 46/50, Train Loss: 1.0038, Val Loss: 1.0784, Val Output Std: 0.129052, Min Val Pred: -0.630280, Max Val Pred: 0.864964\n"
     ]
    },
    {
     "name": "stderr",
     "output_type": "stream",
     "text": [
      "                                                                                                                       \r"
     ]
    },
    {
     "name": "stdout",
     "output_type": "stream",
     "text": [
      "Transformer_NdLinear Epoch 47/50, Train Loss: 1.0042, Val Loss: 1.0772, Val Output Std: 0.134504, Min Val Pred: -0.532354, Max Val Pred: 1.155397\n"
     ]
    },
    {
     "name": "stderr",
     "output_type": "stream",
     "text": [
      "                                                                                                                       \r"
     ]
    },
    {
     "name": "stdout",
     "output_type": "stream",
     "text": [
      "Transformer_NdLinear Epoch 48/50, Train Loss: 1.0035, Val Loss: 1.1360, Val Output Std: 0.247111, Min Val Pred: -0.903164, Max Val Pred: 1.454817\n"
     ]
    },
    {
     "name": "stderr",
     "output_type": "stream",
     "text": [
      "                                                                                                                       \r"
     ]
    },
    {
     "name": "stdout",
     "output_type": "stream",
     "text": [
      "Transformer_NdLinear Epoch 49/50, Train Loss: 1.0035, Val Loss: 1.1208, Val Output Std: 0.220392, Min Val Pred: -0.691123, Max Val Pred: 1.423085\n"
     ]
    },
    {
     "name": "stderr",
     "output_type": "stream",
     "text": [
      "                                                                                                                       \r"
     ]
    },
    {
     "name": "stdout",
     "output_type": "stream",
     "text": [
      "Transformer_NdLinear Epoch 50/50, Train Loss: 1.0034, Val Loss: 1.0996, Val Output Std: 0.172834, Min Val Pred: -0.795613, Max Val Pred: 1.047804\n",
      "Transformer_NdLinear Test Loss: 0.9339\n",
      "Transformer_NdLinear Test Outputs: Min: -0.792328, Max: 1.198063, Std: 0.178102\n",
      "Transformer_NdLinear Test Targets: Min: -3.819506, Max: 3.733095, Std: 0.956245\n",
      "Training Transformer_Linear...\n"
     ]
    },
    {
     "name": "stderr",
     "output_type": "stream",
     "text": [
      "                                                                                                                       \r"
     ]
    },
    {
     "name": "stdout",
     "output_type": "stream",
     "text": [
      "Transformer_Linear Epoch 1/50, Train Loss: 1.0342, Val Loss: 1.0569, Val Output Std: 0.019027, Min Val Pred: -0.054364, Max Val Pred: 0.114794\n"
     ]
    },
    {
     "name": "stderr",
     "output_type": "stream",
     "text": [
      "                                                                                                                       \r"
     ]
    },
    {
     "name": "stdout",
     "output_type": "stream",
     "text": [
      "Transformer_Linear Epoch 2/50, Train Loss: 1.0207, Val Loss: 1.0565, Val Output Std: 0.014709, Min Val Pred: -0.060479, Max Val Pred: 0.096891\n"
     ]
    },
    {
     "name": "stderr",
     "output_type": "stream",
     "text": [
      "                                                                                                                       \r"
     ]
    },
    {
     "name": "stdout",
     "output_type": "stream",
     "text": [
      "Transformer_Linear Epoch 3/50, Train Loss: 1.0141, Val Loss: 1.0624, Val Output Std: 0.010905, Min Val Pred: -0.122286, Max Val Pred: -0.004338\n"
     ]
    },
    {
     "name": "stderr",
     "output_type": "stream",
     "text": [
      "                                                                                                                       \r"
     ]
    },
    {
     "name": "stdout",
     "output_type": "stream",
     "text": [
      "Transformer_Linear Epoch 4/50, Train Loss: 1.0114, Val Loss: 1.0567, Val Output Std: 0.011629, Min Val Pred: -0.029817, Max Val Pred: 0.096411\n"
     ]
    },
    {
     "name": "stderr",
     "output_type": "stream",
     "text": [
      "                                                                                                                       \r"
     ]
    },
    {
     "name": "stdout",
     "output_type": "stream",
     "text": [
      "Transformer_Linear Epoch 5/50, Train Loss: 1.0124, Val Loss: 1.0567, Val Output Std: 0.014268, Min Val Pred: -0.047960, Max Val Pred: 0.100364\n"
     ]
    },
    {
     "name": "stderr",
     "output_type": "stream",
     "text": [
      "                                                                                                                       \r"
     ]
    },
    {
     "name": "stdout",
     "output_type": "stream",
     "text": [
      "Transformer_Linear Epoch 6/50, Train Loss: 1.0079, Val Loss: 1.0603, Val Output Std: 0.013997, Min Val Pred: -0.107677, Max Val Pred: 0.038166\n"
     ]
    },
    {
     "name": "stderr",
     "output_type": "stream",
     "text": [
      "                                                                                                                       \r"
     ]
    },
    {
     "name": "stdout",
     "output_type": "stream",
     "text": [
      "Transformer_Linear Epoch 7/50, Train Loss: 1.0093, Val Loss: 1.0574, Val Output Std: 0.016590, Min Val Pred: -0.019656, Max Val Pred: 0.142765\n"
     ]
    },
    {
     "name": "stderr",
     "output_type": "stream",
     "text": [
      "                                                                                                                       \r"
     ]
    },
    {
     "name": "stdout",
     "output_type": "stream",
     "text": [
      "Transformer_Linear Epoch 8/50, Train Loss: 1.0056, Val Loss: 1.0643, Val Output Std: 0.019681, Min Val Pred: -0.133515, Max Val Pred: 0.067469\n"
     ]
    },
    {
     "name": "stderr",
     "output_type": "stream",
     "text": [
      "                                                                                                                       \r"
     ]
    },
    {
     "name": "stdout",
     "output_type": "stream",
     "text": [
      "Transformer_Linear Epoch 9/50, Train Loss: 1.0076, Val Loss: 1.0585, Val Output Std: 0.023777, Min Val Pred: -0.017869, Max Val Pred: 0.208711\n"
     ]
    },
    {
     "name": "stderr",
     "output_type": "stream",
     "text": [
      "                                                                                                                       \r"
     ]
    },
    {
     "name": "stdout",
     "output_type": "stream",
     "text": [
      "Transformer_Linear Epoch 10/50, Train Loss: 1.0070, Val Loss: 1.0568, Val Output Std: 0.018065, Min Val Pred: -0.041507, Max Val Pred: 0.160272\n"
     ]
    },
    {
     "name": "stderr",
     "output_type": "stream",
     "text": [
      "                                                                                                                       \r"
     ]
    },
    {
     "name": "stdout",
     "output_type": "stream",
     "text": [
      "Transformer_Linear Epoch 11/50, Train Loss: 1.0088, Val Loss: 1.0573, Val Output Std: 0.017603, Min Val Pred: -0.069158, Max Val Pred: 0.101273\n"
     ]
    },
    {
     "name": "stderr",
     "output_type": "stream",
     "text": [
      "                                                                                                                       \r"
     ]
    },
    {
     "name": "stdout",
     "output_type": "stream",
     "text": [
      "Transformer_Linear Epoch 12/50, Train Loss: 1.0072, Val Loss: 1.0572, Val Output Std: 0.022853, Min Val Pred: -0.054837, Max Val Pred: 0.149236\n"
     ]
    },
    {
     "name": "stderr",
     "output_type": "stream",
     "text": [
      "                                                                                                                       \r"
     ]
    },
    {
     "name": "stdout",
     "output_type": "stream",
     "text": [
      "Transformer_Linear Epoch 13/50, Train Loss: 1.0069, Val Loss: 1.0574, Val Output Std: 0.024978, Min Val Pred: -0.060777, Max Val Pred: 0.206673\n"
     ]
    },
    {
     "name": "stderr",
     "output_type": "stream",
     "text": [
      "                                                                                                                       \r"
     ]
    },
    {
     "name": "stdout",
     "output_type": "stream",
     "text": [
      "Transformer_Linear Epoch 14/50, Train Loss: 1.0084, Val Loss: 1.0664, Val Output Std: 0.020930, Min Val Pred: 0.034804, Max Val Pred: 0.257934\n"
     ]
    },
    {
     "name": "stderr",
     "output_type": "stream",
     "text": [
      "                                                                                                                       \r"
     ]
    },
    {
     "name": "stdout",
     "output_type": "stream",
     "text": [
      "Transformer_Linear Epoch 15/50, Train Loss: 1.0074, Val Loss: 1.0607, Val Output Std: 0.022915, Min Val Pred: -0.004811, Max Val Pred: 0.213419\n"
     ]
    },
    {
     "name": "stderr",
     "output_type": "stream",
     "text": [
      "                                                                                                                       \r"
     ]
    },
    {
     "name": "stdout",
     "output_type": "stream",
     "text": [
      "Transformer_Linear Epoch 16/50, Train Loss: 1.0072, Val Loss: 1.0588, Val Output Std: 0.016942, Min Val Pred: -0.009158, Max Val Pred: 0.195097\n"
     ]
    },
    {
     "name": "stderr",
     "output_type": "stream",
     "text": [
      "                                                                                                                       \r"
     ]
    },
    {
     "name": "stdout",
     "output_type": "stream",
     "text": [
      "Transformer_Linear Epoch 17/50, Train Loss: 1.0070, Val Loss: 1.0585, Val Output Std: 0.032806, Min Val Pred: -0.065806, Max Val Pred: 0.195727\n"
     ]
    },
    {
     "name": "stderr",
     "output_type": "stream",
     "text": [
      "                                                                                                                       \r"
     ]
    },
    {
     "name": "stdout",
     "output_type": "stream",
     "text": [
      "Transformer_Linear Epoch 18/50, Train Loss: 1.0071, Val Loss: 1.0585, Val Output Std: 0.030164, Min Val Pred: -0.068297, Max Val Pred: 0.207805\n"
     ]
    },
    {
     "name": "stderr",
     "output_type": "stream",
     "text": [
      "                                                                                                                       \r"
     ]
    },
    {
     "name": "stdout",
     "output_type": "stream",
     "text": [
      "Transformer_Linear Epoch 19/50, Train Loss: 1.0076, Val Loss: 1.0575, Val Output Std: 0.026481, Min Val Pred: -0.086165, Max Val Pred: 0.173003\n"
     ]
    },
    {
     "name": "stderr",
     "output_type": "stream",
     "text": [
      "                                                                                                                       \r"
     ]
    },
    {
     "name": "stdout",
     "output_type": "stream",
     "text": [
      "Transformer_Linear Epoch 20/50, Train Loss: 1.0071, Val Loss: 1.0588, Val Output Std: 0.027739, Min Val Pred: -0.010398, Max Val Pred: 0.254501\n"
     ]
    },
    {
     "name": "stderr",
     "output_type": "stream",
     "text": [
      "                                                                                                                       \r"
     ]
    },
    {
     "name": "stdout",
     "output_type": "stream",
     "text": [
      "Transformer_Linear Epoch 21/50, Train Loss: 1.0066, Val Loss: 1.0579, Val Output Std: 0.028793, Min Val Pred: -0.105570, Max Val Pred: 0.166687\n"
     ]
    },
    {
     "name": "stderr",
     "output_type": "stream",
     "text": [
      "                                                                                                                       \r"
     ]
    },
    {
     "name": "stdout",
     "output_type": "stream",
     "text": [
      "Transformer_Linear Epoch 22/50, Train Loss: 1.0074, Val Loss: 1.0579, Val Output Std: 0.024905, Min Val Pred: -0.057594, Max Val Pred: 0.191247\n"
     ]
    },
    {
     "name": "stderr",
     "output_type": "stream",
     "text": [
      "                                                                                                                       \r"
     ]
    },
    {
     "name": "stdout",
     "output_type": "stream",
     "text": [
      "Transformer_Linear Epoch 23/50, Train Loss: 1.0059, Val Loss: 1.0581, Val Output Std: 0.034670, Min Val Pred: -0.103491, Max Val Pred: 0.192416\n"
     ]
    },
    {
     "name": "stderr",
     "output_type": "stream",
     "text": [
      "                                                                                                                       \r"
     ]
    },
    {
     "name": "stdout",
     "output_type": "stream",
     "text": [
      "Transformer_Linear Epoch 24/50, Train Loss: 1.0062, Val Loss: 1.0599, Val Output Std: 0.040196, Min Val Pred: -0.089193, Max Val Pred: 0.264126\n"
     ]
    },
    {
     "name": "stderr",
     "output_type": "stream",
     "text": [
      "                                                                                                                       \r"
     ]
    },
    {
     "name": "stdout",
     "output_type": "stream",
     "text": [
      "Transformer_Linear Epoch 25/50, Train Loss: 1.0060, Val Loss: 1.0587, Val Output Std: 0.035768, Min Val Pred: -0.078928, Max Val Pred: 0.232902\n"
     ]
    },
    {
     "name": "stderr",
     "output_type": "stream",
     "text": [
      "                                                                                                                       \r"
     ]
    },
    {
     "name": "stdout",
     "output_type": "stream",
     "text": [
      "Transformer_Linear Epoch 26/50, Train Loss: 1.0054, Val Loss: 1.0681, Val Output Std: 0.030211, Min Val Pred: -0.029308, Max Val Pred: 0.314014\n"
     ]
    },
    {
     "name": "stderr",
     "output_type": "stream",
     "text": [
      "                                                                                                                       \r"
     ]
    },
    {
     "name": "stdout",
     "output_type": "stream",
     "text": [
      "Transformer_Linear Epoch 27/50, Train Loss: 1.0059, Val Loss: 1.0605, Val Output Std: 0.030463, Min Val Pred: -0.061269, Max Val Pred: 0.223181\n"
     ]
    },
    {
     "name": "stderr",
     "output_type": "stream",
     "text": [
      "                                                                                                                       \r"
     ]
    },
    {
     "name": "stdout",
     "output_type": "stream",
     "text": [
      "Transformer_Linear Epoch 28/50, Train Loss: 1.0065, Val Loss: 1.0584, Val Output Std: 0.033604, Min Val Pred: -0.100799, Max Val Pred: 0.196523\n"
     ]
    },
    {
     "name": "stderr",
     "output_type": "stream",
     "text": [
      "                                                                                                                       \r"
     ]
    },
    {
     "name": "stdout",
     "output_type": "stream",
     "text": [
      "Transformer_Linear Epoch 29/50, Train Loss: 1.0045, Val Loss: 1.0667, Val Output Std: 0.091680, Min Val Pred: -0.204323, Max Val Pred: 0.517832\n"
     ]
    },
    {
     "name": "stderr",
     "output_type": "stream",
     "text": [
      "                                                                                                                       \r"
     ]
    },
    {
     "name": "stdout",
     "output_type": "stream",
     "text": [
      "Transformer_Linear Epoch 30/50, Train Loss: 1.0065, Val Loss: 1.0589, Val Output Std: 0.049348, Min Val Pred: -0.144791, Max Val Pred: 0.279765\n"
     ]
    },
    {
     "name": "stderr",
     "output_type": "stream",
     "text": [
      "                                                                                                                       \r"
     ]
    },
    {
     "name": "stdout",
     "output_type": "stream",
     "text": [
      "Transformer_Linear Epoch 31/50, Train Loss: 1.0054, Val Loss: 1.0584, Val Output Std: 0.018370, Min Val Pred: -0.043799, Max Val Pred: 0.140186\n"
     ]
    },
    {
     "name": "stderr",
     "output_type": "stream",
     "text": [
      "                                                                                                                       \r"
     ]
    },
    {
     "name": "stdout",
     "output_type": "stream",
     "text": [
      "Transformer_Linear Epoch 32/50, Train Loss: 1.0045, Val Loss: 1.0603, Val Output Std: 0.046132, Min Val Pred: -0.168302, Max Val Pred: 0.235670\n"
     ]
    },
    {
     "name": "stderr",
     "output_type": "stream",
     "text": [
      "                                                                                                                       \r"
     ]
    },
    {
     "name": "stdout",
     "output_type": "stream",
     "text": [
      "Transformer_Linear Epoch 33/50, Train Loss: 1.0068, Val Loss: 1.0590, Val Output Std: 0.034450, Min Val Pred: -0.125877, Max Val Pred: 0.203110\n"
     ]
    },
    {
     "name": "stderr",
     "output_type": "stream",
     "text": [
      "                                                                                                                       \r"
     ]
    },
    {
     "name": "stdout",
     "output_type": "stream",
     "text": [
      "Transformer_Linear Epoch 34/50, Train Loss: 1.0041, Val Loss: 1.0591, Val Output Std: 0.037157, Min Val Pred: -0.191091, Max Val Pred: 0.161490\n"
     ]
    },
    {
     "name": "stderr",
     "output_type": "stream",
     "text": [
      "                                                                                                                       \r"
     ]
    },
    {
     "name": "stdout",
     "output_type": "stream",
     "text": [
      "Transformer_Linear Epoch 35/50, Train Loss: 1.0054, Val Loss: 1.0584, Val Output Std: 0.045415, Min Val Pred: -0.182535, Max Val Pred: 0.212464\n"
     ]
    },
    {
     "name": "stderr",
     "output_type": "stream",
     "text": [
      "                                                                                                                       \r"
     ]
    },
    {
     "name": "stdout",
     "output_type": "stream",
     "text": [
      "Transformer_Linear Epoch 36/50, Train Loss: 1.0047, Val Loss: 1.0600, Val Output Std: 0.031279, Min Val Pred: -0.139990, Max Val Pred: 0.235857\n"
     ]
    },
    {
     "name": "stderr",
     "output_type": "stream",
     "text": [
      "                                                                                                                       \r"
     ]
    },
    {
     "name": "stdout",
     "output_type": "stream",
     "text": [
      "Transformer_Linear Epoch 37/50, Train Loss: 1.0044, Val Loss: 1.0597, Val Output Std: 0.043621, Min Val Pred: -0.113818, Max Val Pred: 0.286660\n"
     ]
    },
    {
     "name": "stderr",
     "output_type": "stream",
     "text": [
      "                                                                                                                       \r"
     ]
    },
    {
     "name": "stdout",
     "output_type": "stream",
     "text": [
      "Transformer_Linear Epoch 38/50, Train Loss: 1.0042, Val Loss: 1.0600, Val Output Std: 0.060539, Min Val Pred: -0.257463, Max Val Pred: 0.429191\n"
     ]
    },
    {
     "name": "stderr",
     "output_type": "stream",
     "text": [
      "                                                                                                                       \r"
     ]
    },
    {
     "name": "stdout",
     "output_type": "stream",
     "text": [
      "Transformer_Linear Epoch 39/50, Train Loss: 1.0038, Val Loss: 1.0586, Val Output Std: 0.031628, Min Val Pred: -0.186127, Max Val Pred: 0.158372\n"
     ]
    },
    {
     "name": "stderr",
     "output_type": "stream",
     "text": [
      "                                                                                                                       \r"
     ]
    },
    {
     "name": "stdout",
     "output_type": "stream",
     "text": [
      "Transformer_Linear Epoch 40/50, Train Loss: 1.0049, Val Loss: 1.0586, Val Output Std: 0.050256, Min Val Pred: -0.226419, Max Val Pred: 0.254999\n"
     ]
    },
    {
     "name": "stderr",
     "output_type": "stream",
     "text": [
      "                                                                                                                       \r"
     ]
    },
    {
     "name": "stdout",
     "output_type": "stream",
     "text": [
      "Transformer_Linear Epoch 41/50, Train Loss: 1.0043, Val Loss: 1.0612, Val Output Std: 0.034421, Min Val Pred: -0.155236, Max Val Pred: 0.220834\n"
     ]
    },
    {
     "name": "stderr",
     "output_type": "stream",
     "text": [
      "                                                                                                                       \r"
     ]
    },
    {
     "name": "stdout",
     "output_type": "stream",
     "text": [
      "Transformer_Linear Epoch 42/50, Train Loss: 1.0032, Val Loss: 1.0593, Val Output Std: 0.049667, Min Val Pred: -0.266322, Max Val Pred: 0.274019\n"
     ]
    },
    {
     "name": "stderr",
     "output_type": "stream",
     "text": [
      "                                                                                                                       \r"
     ]
    },
    {
     "name": "stdout",
     "output_type": "stream",
     "text": [
      "Transformer_Linear Epoch 43/50, Train Loss: 1.0039, Val Loss: 1.0633, Val Output Std: 0.041139, Min Val Pred: -0.224041, Max Val Pred: 0.272954\n"
     ]
    },
    {
     "name": "stderr",
     "output_type": "stream",
     "text": [
      "                                                                                                                       \r"
     ]
    },
    {
     "name": "stdout",
     "output_type": "stream",
     "text": [
      "Transformer_Linear Epoch 44/50, Train Loss: 1.0039, Val Loss: 1.0592, Val Output Std: 0.042780, Min Val Pred: -0.319475, Max Val Pred: 0.268536\n"
     ]
    },
    {
     "name": "stderr",
     "output_type": "stream",
     "text": [
      "                                                                                                                       \r"
     ]
    },
    {
     "name": "stdout",
     "output_type": "stream",
     "text": [
      "Transformer_Linear Epoch 45/50, Train Loss: 1.0008, Val Loss: 1.0669, Val Output Std: 0.053775, Min Val Pred: -0.437485, Max Val Pred: 0.378281\n"
     ]
    },
    {
     "name": "stderr",
     "output_type": "stream",
     "text": [
      "                                                                                                                       \r"
     ]
    },
    {
     "name": "stdout",
     "output_type": "stream",
     "text": [
      "Transformer_Linear Epoch 46/50, Train Loss: 1.0030, Val Loss: 1.0648, Val Output Std: 0.057118, Min Val Pred: -0.339971, Max Val Pred: 0.376955\n"
     ]
    },
    {
     "name": "stderr",
     "output_type": "stream",
     "text": [
      "                                                                                                                       \r"
     ]
    },
    {
     "name": "stdout",
     "output_type": "stream",
     "text": [
      "Transformer_Linear Epoch 47/50, Train Loss: 1.0031, Val Loss: 1.0648, Val Output Std: 0.074136, Min Val Pred: -0.471484, Max Val Pred: 0.486880\n"
     ]
    },
    {
     "name": "stderr",
     "output_type": "stream",
     "text": [
      "                                                                                                                       \r"
     ]
    },
    {
     "name": "stdout",
     "output_type": "stream",
     "text": [
      "Transformer_Linear Epoch 48/50, Train Loss: 1.0020, Val Loss: 1.0606, Val Output Std: 0.049876, Min Val Pred: -0.403584, Max Val Pred: 0.293032\n"
     ]
    },
    {
     "name": "stderr",
     "output_type": "stream",
     "text": [
      "                                                                                                                       \r"
     ]
    },
    {
     "name": "stdout",
     "output_type": "stream",
     "text": [
      "Transformer_Linear Epoch 49/50, Train Loss: 1.0014, Val Loss: 1.0655, Val Output Std: 0.097063, Min Val Pred: -0.869048, Max Val Pred: 0.423977\n"
     ]
    },
    {
     "name": "stderr",
     "output_type": "stream",
     "text": [
      "                                                                                                                       \r"
     ]
    },
    {
     "name": "stdout",
     "output_type": "stream",
     "text": [
      "Transformer_Linear Epoch 50/50, Train Loss: 1.0017, Val Loss: 1.0596, Val Output Std: 0.070464, Min Val Pred: -0.527361, Max Val Pred: 0.419312\n",
      "Transformer_Linear Test Loss: 0.9074\n",
      "Transformer_Linear Test Outputs: Min: -0.523453, Max: 0.398465, Std: 0.073612\n",
      "Transformer_Linear Test Targets: Min: -3.819506, Max: 3.733095, Std: 0.956245\n"
     ]
    }
   ],
   "source": [
    "# NdLinear-based Model\n",
    "class NdFeedForward(nn.Module):\n",
    "    \"\"\"\n",
    "    NdLinear-based feedforward network for transformer, adapted from ts_forecast.py.\n",
    "    \n",
    "    Args:\n",
    "        input_dim: Input dimension\n",
    "        hidden_dim: Multi-dimensional hidden size for NdLinear (e.g., (256, 1))\n",
    "        dropout: Dropout rate\n",
    "        activation: Activation function\n",
    "    \"\"\"\n",
    "    def __init__(self, input_dim, hidden_dim=(128, 128), dropout=0.1, activation='gelu'):\n",
    "        super(NdFeedForward, self).__init__()\n",
    "        activations = {\n",
    "            'relu': nn.ReLU().to(device),\n",
    "            'tanh': nn.Tanh().to(device),\n",
    "            'sigmoid': nn.Sigmoid().to(device),\n",
    "            'gelu': nn.GELU().to(device),\n",
    "        }\n",
    "        if activation not in activations:\n",
    "            raise ValueError(f\"Unsupported activation function: {activation}\")\n",
    "        \n",
    "        self.layer1 = NdLinear((input_dim, 1), hidden_dim).to(device)\n",
    "        self.activation = activations[activation]\n",
    "        self.dropout = nn.Dropout(dropout).to(device)\n",
    "        self.layer2 = NdLinear(hidden_dim, (input_dim, 1)).to(device)\n",
    "\n",
    "    def forward(self, x):\n",
    "        x_dims = list(x.shape)\n",
    "        x = x.reshape(x_dims[0] * x_dims[1], x_dims[2], 1)\n",
    "        x = self.layer1(x)\n",
    "        x = self.activation(x)\n",
    "        x = self.dropout(x)\n",
    "        x = self.layer2(x)\n",
    "        x = x.reshape(x_dims[0], x_dims[1], x_dims[2])\n",
    "        return x\n",
    "\n",
    "class NdTransformerEncoderLayer(nn.TransformerEncoderLayer):\n",
    "    \"\"\"\n",
    "    Transformer encoder layer with NdLinear feedforward, adapted from ts_forecast.py.\n",
    "    \n",
    "    Args:\n",
    "        d_model: Model dimension\n",
    "        nhead: Number of attention heads\n",
    "        custom_ffn: NdFeedForward instance\n",
    "    \"\"\"\n",
    "    def __init__(self, d_model, nhead, custom_ffn, **kwargs):\n",
    "        kwargs['batch_first'] = True\n",
    "        super(NdTransformerEncoderLayer, self).__init__(d_model, nhead, **kwargs)\n",
    "        self.nd_ffn = custom_ffn.to(device)\n",
    "\n",
    "    def _ff_block(self, x: Tensor) -> Tensor:\n",
    "        x = self.nd_ffn(x)\n",
    "        return x\n",
    "\n",
    "class Transformer_NdLinear(nn.Module):\n",
    "    \"\"\"\n",
    "    Transformer model with NdLinear feedforward for stock price prediction.\n",
    "    \n",
    "    Args:\n",
    "        input_dim: Number of input features (12)\n",
    "        model_dim: Transformer model dimension\n",
    "        num_heads: Number of attention heads\n",
    "        num_layers: Number of transformer layers\n",
    "        hidden_dim: Hidden dimension for NdFeedForward\n",
    "        dropout: Dropout rate\n",
    "        activation: Activation function\n",
    "    \"\"\"\n",
    "    def __init__(self, input_dim, model_dim=64, num_heads=2, num_layers=3, hidden_dim=(128, 128), dropout=0.1, activation='gelu'):\n",
    "        super(Transformer_NdLinear, self).__init__()\n",
    "        ff_layer = NdFeedForward(model_dim, hidden_dim=hidden_dim, dropout=dropout, activation=activation).to(device)\n",
    "        encoder_layer = NdTransformerEncoderLayer(model_dim, num_heads, custom_ffn=ff_layer, dropout=dropout).to(device)\n",
    "        self.transformer_encoder = nn.TransformerEncoder(encoder_layer, num_layers=num_layers).to(device)\n",
    "        self.embedding = nn.Linear(input_dim, model_dim).to(device)\n",
    "        self.fc_out = nn.Linear(model_dim, 1).to(device)\n",
    "        self.dropout = nn.Dropout(dropout).to(device)\n",
    "\n",
    "    def forward(self, src):\n",
    "        src = self.embedding(src)\n",
    "        output = self.transformer_encoder(src)\n",
    "        output = output[:, -1, :]  # Take the last timestep\n",
    "        output = self.dropout(output)\n",
    "        output = self.fc_out(output)\n",
    "        return output\n",
    "\n",
    "# Standard Linear-based Model\n",
    "class LinearFeedForward(nn.Module):\n",
    "    \"\"\"\n",
    "    Standard feedforward network with Linear layers.\n",
    "    \n",
    "    Args:\n",
    "        input_dim: Input dimension\n",
    "        hidden_dim: Hidden dimension for Linear layers\n",
    "        dropout: Dropout rate\n",
    "        activation: Activation function\n",
    "    \"\"\"\n",
    "    def __init__(self, input_dim, hidden_dim=256, dropout=0.1, activation='gelu'):\n",
    "        super(LinearFeedForward, self).__init__()\n",
    "        activations = {\n",
    "            'relu': nn.ReLU().to(device),\n",
    "            'tanh': nn.Tanh().to(device),\n",
    "            'sigmoid': nn.Sigmoid().to(device),\n",
    "            'gelu': nn.GELU().to(device),\n",
    "        }\n",
    "        if activation not in activations:\n",
    "            raise ValueError(f\"Unsupported activation function: {activation}\")\n",
    "        \n",
    "        self.layer1 = nn.Linear(input_dim, hidden_dim).to(device)\n",
    "        self.activation = activations[activation]\n",
    "        self.dropout = nn.Dropout(dropout).to(device)\n",
    "        self.layer2 = nn.Linear(hidden_dim, input_dim).to(device)\n",
    "\n",
    "    def forward(self, x):\n",
    "        x = self.layer1(x)\n",
    "        x = self.activation(x)\n",
    "        x = self.dropout(x)\n",
    "        x = self.layer2(x)\n",
    "        return x\n",
    "\n",
    "class Transformer_Linear(nn.Module):\n",
    "    \"\"\"\n",
    "    Transformer model with standard Linear feedforward for stock price prediction.\n",
    "    \n",
    "    Args:\n",
    "        input_dim: Number of input features (12)\n",
    "        model_dim: Transformer model dimension\n",
    "        num_heads: Number of attention heads\n",
    "        num_layers: Number of transformer layers\n",
    "        hidden_dim: Hidden dimension for FeedForward\n",
    "        dropout: Dropout rate\n",
    "        activation: Activation function\n",
    "    \"\"\"\n",
    "    def __init__(self, input_dim, model_dim=64, num_heads=2, num_layers=3, hidden_dim=256, dropout=0.1, activation='gelu'):\n",
    "        super(Transformer_Linear, self).__init__()\n",
    "        ff_layer = LinearFeedForward(model_dim, hidden_dim=hidden_dim, dropout=dropout, activation=activation).to(device)\n",
    "        encoder_layer = nn.TransformerEncoderLayer(model_dim, num_heads, dim_feedforward=hidden_dim, dropout=dropout, batch_first=True).to(device)\n",
    "        self.transformer_encoder = nn.TransformerEncoder(encoder_layer, num_layers=num_layers).to(device)\n",
    "        self.embedding = nn.Linear(input_dim, model_dim).to(device)\n",
    "        self.fc_out = nn.Linear(model_dim, 1).to(device)\n",
    "        self.dropout = nn.Dropout(dropout).to(device)\n",
    "\n",
    "    def forward(self, src):\n",
    "        src = self.embedding(src)\n",
    "        output = self.transformer_encoder(src)\n",
    "        output = output[:, -1, :]  # Take the last timestep\n",
    "        output = self.dropout(output)\n",
    "        output = self.fc_out(output)\n",
    "        return output\n",
    "\n",
    "# Training and evaluation function\n",
    "def train_and_evaluate(model, train_loader, val_loader, test_loader, criterion, optimizer, epochs=50, model_name=\"Model\"):\n",
    "    \"\"\"\n",
    "    Train and evaluate the model with MSE loss and mixed precision.\n",
    "    \n",
    "    Args:\n",
    "        model: Transformer model (NdLinear or Linear)\n",
    "        train_loader: Training data loader\n",
    "        val_loader: Validation data loader\n",
    "        test_loader: Test data loader\n",
    "        criterion: Loss function (MSELoss)\n",
    "        optimizer: Optimizer\n",
    "        epochs: Number of training epochs\n",
    "        model_name: Name of the model for logging\n",
    "    \n",
    "    Returns:\n",
    "        Tuple of (train_losses, val_losses, test_loss)\n",
    "    \"\"\"\n",
    "    device = torch.device('cuda' if torch.cuda.is_available() else 'cpu')\n",
    "    model.to(device)\n",
    "    scaler = torch.cuda.amp.GradScaler()\n",
    "    \n",
    "    train_losses = []\n",
    "    val_losses = []\n",
    "    \n",
    "    for epoch in range(epochs):\n",
    "        model.train()\n",
    "        train_loss = 0\n",
    "        for inputs, targets in tqdm(train_loader, desc=f'Training {model_name} Epoch {epoch+1}/{epochs}', leave=False):\n",
    "            inputs, targets = inputs.to(device), targets.to(device)\n",
    "            optimizer.zero_grad()\n",
    "            with torch.cuda.amp.autocast():\n",
    "                outputs = model(inputs)\n",
    "                loss = criterion(outputs.squeeze(), targets)\n",
    "            scaler.scale(loss).backward()\n",
    "            scaler.step(optimizer)\n",
    "            scaler.update()\n",
    "            train_loss += loss.item()\n",
    "        train_loss /= len(train_loader)\n",
    "        train_losses.append(train_loss)\n",
    "        \n",
    "        model.eval()\n",
    "        val_loss = 0\n",
    "        val_outputs = []\n",
    "        with torch.no_grad():\n",
    "            for inputs, targets in val_loader:\n",
    "                inputs, targets = inputs.to(device), targets.to(device)\n",
    "                outputs = model(inputs)\n",
    "                loss = criterion(outputs.squeeze(), targets)\n",
    "                val_loss += loss.item()\n",
    "                val_outputs.append(outputs.squeeze().cpu().numpy())\n",
    "            val_loss /= len(val_loader)\n",
    "            val_outputs = np.concatenate(val_outputs)\n",
    "            output_std = np.std(val_outputs)\n",
    "            print(f\"{model_name} Epoch {epoch+1}/{epochs}, Train Loss: {train_loss:.4f}, Val Loss: {val_loss:.4f}, \"\n",
    "                  f\"Val Output Std: {output_std:.6f}, Min Val Pred: {val_outputs.min():.6f}, Max Val Pred: {val_outputs.max():.6f}\")\n",
    "        \n",
    "        val_losses.append(val_loss)\n",
    "    \n",
    "    model.eval()\n",
    "    test_loss = 0\n",
    "    test_outputs = []\n",
    "    test_targets = []\n",
    "    with torch.no_grad():\n",
    "        for inputs, targets in test_loader:\n",
    "            inputs, targets = inputs.to(device), targets.to(device)\n",
    "            outputs = model(inputs)\n",
    "            loss = criterion(outputs.squeeze(), targets)\n",
    "            test_loss += loss.item()\n",
    "            test_outputs.append(outputs.squeeze().cpu().numpy())\n",
    "            test_targets.append(targets.cpu().numpy())\n",
    "        test_loss /= len(test_loader)\n",
    "        test_outputs = np.concatenate(test_outputs)\n",
    "        test_targets = np.concatenate(test_targets)\n",
    "        print(f\"{model_name} Test Loss: {test_loss:.4f}\")\n",
    "        print(f\"{model_name} Test Outputs: Min: {test_outputs.min():.6f}, Max: {test_outputs.max():.6f}, Std: {np.std(test_outputs):.6f}\")\n",
    "        print(f\"{model_name} Test Targets: Min: {test_targets.min():.6f}, Max: {test_targets.max():.6f}, Std: {np.std(test_targets):.6f}\")\n",
    "    \n",
    "    return train_losses, val_losses, test_loss\n",
    "\n",
    "# Initialize and train NdLinear model\n",
    "input_dim = 12  # Number of features\n",
    "model_ndlinear = Transformer_NdLinear(input_dim, model_dim=64, num_heads=2, num_layers=3, hidden_dim=(128,128), dropout=0.1, activation='gelu').to(device)\n",
    "optimizer_ndlinear = optim.Adam(model_ndlinear.parameters(), lr=0.0001)\n",
    "criterion = nn.MSELoss().to(device)\n",
    "print(\"Training Transformer_NdLinear...\")\n",
    "train_losses_ndlinear, val_losses_ndlinear, test_loss_ndlinear = train_and_evaluate(\n",
    "    model_ndlinear, train_loader, val_loader, test_loader, criterion, optimizer_ndlinear, epochs=50, model_name=\"Transformer_NdLinear\"\n",
    ")\n",
    "\n",
    "# Save NdLinear model\n",
    "torch.save(model_ndlinear.state_dict(), 'transformer_ndlinear.pth')\n",
    "\n",
    "# Initialize and train Linear model\n",
    "model_linear = Transformer_Linear(input_dim, model_dim=64, num_heads=2, num_layers=3, hidden_dim=256, dropout=0.1, activation='gelu').to(device)\n",
    "optimizer_linear = optim.Adam(model_linear.parameters(), lr=0.0001)\n",
    "print(\"Training Transformer_Linear...\")\n",
    "train_losses_linear, val_losses_linear, test_loss_linear = train_and_evaluate(\n",
    "    model_linear, train_loader, val_loader, test_loader, criterion, optimizer_linear, epochs=50, model_name=\"Transformer_Linear\"\n",
    ")\n",
    "\n",
    "# Save Linear model\n",
    "torch.save(model_linear.state_dict(), 'transformer_linear.pth')"
   ]
  },
  {
   "cell_type": "code",
   "execution_count": 113,
   "id": "a883e1d6-a615-4f93-b88c-3d4a1896588b",
   "metadata": {},
   "outputs": [
    {
     "name": "stdout",
     "output_type": "stream",
     "text": [
      "Test Loss: 1.0015\n",
      "outputs:  tensor([[-0.0384],\n",
      "        [-0.2395],\n",
      "        [ 0.4570],\n",
      "        [-0.2017],\n",
      "        [-0.0686],\n",
      "        [ 0.0554],\n",
      "        [-0.0873],\n",
      "        [-0.1569],\n",
      "        [-0.0662],\n",
      "        [-0.1775],\n",
      "        [-0.2354],\n",
      "        [-0.1777],\n",
      "        [-0.2761],\n",
      "        [-0.2013],\n",
      "        [-0.1787],\n",
      "        [-0.0419],\n",
      "        [-0.0081],\n",
      "        [-0.1610],\n",
      "        [-0.0044],\n",
      "        [-0.0422],\n",
      "        [-0.3757],\n",
      "        [-0.0195],\n",
      "        [-0.0281],\n",
      "        [-0.3906],\n",
      "        [-0.0831],\n",
      "        [-0.0824],\n",
      "        [-0.2204]])\n",
      "2\n",
      "27\n",
      "targets:  tensor([ 1.6378, -0.7874, -2.5041,  0.0288, -0.0357,  0.7673, -0.3190, -0.3930,\n",
      "        -1.2757,  0.5689, -0.0081, -0.5465, -0.6737,  0.3514, -0.6176, -0.2384,\n",
      "        -1.2125, -1.5335,  0.3843,  0.3375, -0.2221, -0.7233, -0.1464,  0.3268,\n",
      "         0.0677,  0.3995,  0.1944])\n"
     ]
    }
   ],
   "source": [
    "with torch.no_grad():\n",
    "    for inputs, targets in test_loader:\n",
    "        inputs, targets = inputs.to(\"cpu\"), targets.to(\"cpu\")\n",
    "        outputs = model_ndlinear(inputs)\n",
    "        loss = criterion(outputs.squeeze(), targets)\n",
    "        test_loss += loss.item()\n",
    "    test_loss /= len(test_loader)\n",
    "    print(f\"Test Loss: {test_loss:.4f}\")\n",
    "    print(\"outputs: \",outputs)\n",
    "    print((outputs > 0).sum().item())\n",
    "    print(outputs.numel())\n",
    "    print(\"targets: \",targets)\n",
    "\n"
   ]
  },
  {
   "cell_type": "code",
   "execution_count": 114,
   "id": "faf2c1c4-d085-4065-956d-545bc01175fb",
   "metadata": {},
   "outputs": [
    {
     "name": "stdout",
     "output_type": "stream",
     "text": [
      "Simulating trading for LSTM_Linear...\n",
      "Simulating trading for LSTM_NdLinear...\n",
      "Simulating trading for RNN_Linear...\n",
      "Simulating trading for RNN_NdLinear...\n",
      "Simulating trading for TCN_Linear...\n",
      "Simulating trading for TCN_Linear...\n",
      "Simulating trading for Transformer_NdLinear...\n",
      "Simulating trading for Transformer_Linear...\n"
     ]
    },
    {
     "data": {
      "image/png": "[encoded data removed]",
      "text/plain": [
       "<Figure size 1000x600 with 1 Axes>"
      ]
     },
     "metadata": {},
     "output_type": "display_data"
    },
    {
     "name": "stdout",
     "output_type": "stream",
     "text": [
      "LSTM_Linear: Final Value: $0.03, Total Return: -100.00%, Sharpe Ratio: -1.17\n",
      "LSTM_NdLinear: Final Value: $0.04, Total Return: -100.00%, Sharpe Ratio: -0.94\n",
      "RNN_Linear: Final Value: $10000.00, Total Return: 0.00%, Sharpe Ratio: 0.00\n",
      "RNN_NdLinear: Final Value: $10000.00, Total Return: 0.00%, Sharpe Ratio: 0.00\n",
      "TCN_Linear: Final Value: $0.00, Total Return: -100.00%, Sharpe Ratio: -1.31\n",
      "TCN_NdLinear: Final Value: $0.00, Total Return: -100.00%, Sharpe Ratio: -1.16\n",
      "Transformer_NdLinear: Final Value: $844.75, Total Return: -91.55%, Sharpe Ratio: -0.85\n",
      "Transformer_Linear: Final Value: $9788.78, Total Return: -2.11%, Sharpe Ratio: -0.29\n"
     ]
    }
   ],
   "source": [
    "def simulate_trading(model, dataloader, target_scaler_path=\"./rawData/target_scaler.pkl\", initial_cash=10000, transaction_cost=0.001):\n",
    "    \"\"\"\n",
    "    Simulate trading with scaled allocation for positive predictions and inverse positions for negative predictions.\n",
    "    For negative predictions, sells long position before buying inverse position. Handles scaled targets by descaling.\n",
    "    \n",
    "    Args:\n",
    "        model: Trained model (LSTM_Linear, LSTM_NdLinear, RNN, TCN, or Transformer_NdLinear)\n",
    "        dataloader: PyTorch DataLoader with input data [batch_size, timesteps, num_features] and scaled targets [batch_size]\n",
    "        target_scaler_path: Path to the saved StandardScaler for targets (default: 'target_scaler.pkl')\n",
    "        initial_cash: Starting capital (default: $10,000)\n",
    "        transaction_cost: Cost per trade as a fraction (default: 0.1%)\n",
    "    \n",
    "    Returns:\n",
    "        dict: Contains portfolio_values, returns, and sharpe_ratio\n",
    "    \"\"\"\n",
    "    # Load the target scaler\n",
    "    with open(target_scaler_path, \"rb\") as f:\n",
    "        target_scaler = pickle.load(f)\n",
    "    \n",
    "    device = torch.device('cuda' if torch.cuda.is_available() else 'cpu')\n",
    "    model.eval()\n",
    "    cash = initial_cash\n",
    "    position = 0  # Number of units held (positive for long or inverse positions)\n",
    "    is_inverse = False  # Flag to track if position is inverse\n",
    "    portfolio_values = [initial_cash]\n",
    "    returns = []\n",
    "    \n",
    "    with torch.no_grad():\n",
    "        for inputs, targets in dataloader:\n",
    "            inputs, targets = inputs.to(device), targets.to(device)  # inputs: [batch_size, timesteps, num_features], targets: [batch_size]\n",
    "            \n",
    "            # Get model predictions for the batch\n",
    "            preds = model(inputs).squeeze()  # Shape: [batch_size]\n",
    "            \n",
    "            # Inverse-transform predictions and targets to percent changes\n",
    "            preds_np = preds.cpu().numpy().reshape(-1, 1)\n",
    "            targets_np = targets.cpu().numpy().reshape(-1, 1)\n",
    "            preds_percent = target_scaler.inverse_transform(preds_np).flatten()  # Shape: [batch_size]\n",
    "            targets_percent = target_scaler.inverse_transform(targets_np).flatten()  # Shape: [batch_size]\n",
    "            \n",
    "            # Process each sample in the batch\n",
    "            for pred, actual_pct in zip(preds_percent, targets_percent):\n",
    "                # Trading logic\n",
    "                allocation = 0.0\n",
    "                if pred >= 1:\n",
    "                    # Positive predictions: Linear scaling between 1% and 2%\n",
    "                    abs_pred = abs(pred)\n",
    "                    if abs_pred >= 2:\n",
    "                        allocation = 1.0  # 100% allocation for predictions >= 2%\n",
    "                    else:\n",
    "                        allocation = 0.5 * (abs_pred - 1) + 0.5  # 1% -> 50%, 2% -> 100%\n",
    "                    target_is_inverse = False\n",
    "                elif pred < 0:\n",
    "                    # Negative predictions: First sell any existing position\n",
    "                    if position > 0:\n",
    "                        if is_inverse:\n",
    "                            # Sell inverse position\n",
    "                            position_value = position / (1 + actual_pct / 100)  # Inverse position gains when price falls\n",
    "                            cash += position_value * (1 - transaction_cost)\n",
    "                        else:\n",
    "                            # Sell long position\n",
    "                            cash += position * (1 + actual_pct / 100) * (1 - transaction_cost)\n",
    "                        position = 0\n",
    "                        is_inverse = False\n",
    "                    \n",
    "                    # Then check for inverse position if prediction is below -0.5%\n",
    "                    if pred < -0.5:\n",
    "                        abs_pred = abs(pred)\n",
    "                        if abs_pred >= 1.5:\n",
    "                            allocation = 1.0  # 100% allocation for predictions <= -1.5%\n",
    "                        elif abs_pred >= 0.5:\n",
    "                            # Linear scaling: -0.5% -> 0%, -1% -> 50%, -1.5% -> 100%\n",
    "                            allocation = 0.5 * (abs_pred - 0.5) / (1.5 - 0.5)\n",
    "                        target_is_inverse = True\n",
    "                    else:\n",
    "                        target_is_inverse = False\n",
    "                else:\n",
    "                    target_is_inverse = False\n",
    "                \n",
    "                if pred > 0 and cash > 0 and allocation > 0:\n",
    "                    # Buy long position: Invest allocation fraction of cash\n",
    "                    invest_amount = cash * allocation\n",
    "                    shares_to_buy = invest_amount / (1 + actual_pct / 100) / (1 + transaction_cost)\n",
    "                    position = shares_to_buy\n",
    "                    cash -= invest_amount\n",
    "                    is_inverse = False\n",
    "                elif pred < -0.5 and cash > 0 and allocation > 0:\n",
    "                    # Buy inverse position: Invest allocation fraction of cash\n",
    "                    invest_amount = cash * allocation\n",
    "                    units_to_buy = invest_amount * (1 + actual_pct / 100) / (1 + transaction_cost)  # Inverse units scale with price\n",
    "                    position = units_to_buy\n",
    "                    cash -= invest_amount\n",
    "                    is_inverse = True\n",
    "                \n",
    "                # Update portfolio value\n",
    "                if is_inverse:\n",
    "                    # Inverse position: Gains when price falls\n",
    "                    position_value = position / (1 + actual_pct / 100)\n",
    "                else:\n",
    "                    # Long position: Gains when price rises\n",
    "                    position_value = position * (1 + actual_pct / 100)\n",
    "                portfolio_value = cash + position_value\n",
    "                # Prevent negative portfolio value\n",
    "                portfolio_value = max(0, portfolio_value)\n",
    "                portfolio_values.append(portfolio_value)\n",
    "                \n",
    "                # Calculate daily return\n",
    "                daily_return = (portfolio_value - portfolio_values[-2]) / portfolio_values[-2]\n",
    "                returns.append(daily_return)\n",
    "    \n",
    "    # Calculate performance metrics\n",
    "    returns = np.array(returns)\n",
    "    total_return = (portfolio_values[-1] - initial_cash) / initial_cash\n",
    "    sharpe_ratio = np.mean(returns) / np.std(returns) * np.sqrt(252) if np.std(returns) > 0 else 0\n",
    "    \n",
    "    return {\n",
    "        'portfolio_values': portfolio_values,\n",
    "        'total_return': total_return,\n",
    "        'sharpe_ratio': sharpe_ratio\n",
    "    }\n",
    "\n",
    "# Example usage with trained models\n",
    "# Assume lstm_linear, lstm_ndlinear, rnn_linear, rnn_ndlinear, tcn_linear, tcn_ndlinear, model_ndlinear, model_linear are trained\n",
    "# Use test_loader created from X_test and y_test (scaled targets)\n",
    "results = {}\n",
    "\n",
    "# Simulate trading for LSTM_Linear\n",
    "print(\"Simulating trading for LSTM_Linear...\")\n",
    "results['LSTM_Linear'] = simulate_trading(lstm_linear.to(device), test_loader)\n",
    "\n",
    "# Simulate trading for LSTM_NdLinear\n",
    "print(\"Simulating trading for LSTM_NdLinear...\")\n",
    "results['LSTM_NdLinear'] = simulate_trading(lstm_ndlinear.to(device), test_loader)\n",
    "\n",
    "# Simulate trading for RNN_Linear\n",
    "print(\"Simulating trading for RNN_Linear...\")\n",
    "results['RNN_Linear'] = simulate_trading(rnn_linear.to(device), test_loader)\n",
    "\n",
    "# Simulate trading for RNN_NdLinear\n",
    "print(\"Simulating trading for RNN_NdLinear...\")\n",
    "results['RNN_NdLinear'] = simulate_trading(rnn_ndlinear.to(device), test_loader)\n",
    "\n",
    "# Simulate trading for TCN_Linear\n",
    "print(\"Simulating trading for TCN_Linear...\")\n",
    "results['TCN_Linear'] = simulate_trading(tcn_linear.to(device), test_loader)\n",
    "\n",
    "# Simulate trading for TCN_NdLinear\n",
    "print(\"Simulating trading for TCN_NdLinear...\")\n",
    "results['TCN_NdLinear'] = simulate_trading(tcn_ndlinear.to(device), test_loader)\n",
    "\n",
    "# Simulate trading for Transformer_NdLinear\n",
    "print(\"Simulating trading for Transformer_NdLinear...\")\n",
    "results['Transformer_NdLinear'] = simulate_trading(model_ndlinear.to(device), test_loader)\n",
    "\n",
    "# Simulate trading for Transformer_Linear\n",
    "print(\"Simulating trading for Transformer_Linear...\")\n",
    "results['Transformer_Linear'] = simulate_trading(model_linear.to(device), test_loader)\n",
    "\n",
    "# Plot results\n",
    "plt.figure(figsize=(10, 6))\n",
    "for name, res in results.items():\n",
    "    plt.plot(res['portfolio_values'], label=f\"{name} (Return: {res['total_return']:.2%}, Sharpe: {res['sharpe_ratio']:.2f})\")\n",
    "plt.title(\"Portfolio Value Over Time (Stock Trading)\")\n",
    "plt.xlabel(\"Time Step\")\n",
    "plt.ylabel(\"Portfolio Value ($)\")\n",
    "plt.legend()\n",
    "plt.grid(True)\n",
    "plt.savefig('trading_results.png')\n",
    "plt.close()\n",
    "# Print summary\n",
    "for name, res in results.items():\n",
    "    print(f\"{name}: Final Value: ${res['portfolio_values'][-1]:.2f}, Total Return: {res['total_return']:.2%}, Sharpe Ratio: {res['sharpe_ratio']:.2f}\")"
   ]
  },
  {
   "cell_type": "code",
   "execution_count": null,
   "id": "52e5d1ee-bbf5-4084-9cc9-160b49da2b3d",
   "metadata": {},
   "outputs": [],
   "source": []
  },
  {
   "cell_type": "code",
   "execution_count": null,
   "id": "cb09f548-d0d0-4343-92e2-dec022df20a0",
   "metadata": {},
   "outputs": [],
   "source": []
  }
 ],
 "metadata": {
  "kernelspec": {
   "display_name": "Python 3 (ipykernel)",
   "language": "python",
   "name": "python3"
  },
  "language_info": {
   "codemirror_mode": {
    "name": "ipython",
    "version": 3
   },
   "file_extension": ".py",
   "mimetype": "text/x-python",
   "name": "python",
   "nbconvert_exporter": "python",
   "pygments_lexer": "ipython3",
   "version": "3.11.5"
  }
 },
 "nbformat": 4,
 "nbformat_minor": 5
}
